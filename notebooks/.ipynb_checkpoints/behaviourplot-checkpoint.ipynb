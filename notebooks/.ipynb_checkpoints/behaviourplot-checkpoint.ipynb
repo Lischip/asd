{
 "cells": [
  {
   "cell_type": "markdown",
   "id": "breathing-primary",
   "metadata": {},
   "source": [
    "# Behaviourplots\n",
    "KPI:\n",
    "- Cost of Illness\n",
    "- Contaminated chicken meat\n",
    "- DALY"
   ]
  },
  {
   "cell_type": "code",
   "execution_count": 45,
   "id": "challenging-genome",
   "metadata": {},
   "outputs": [],
   "source": [
    "import pandas as pd\n",
    "import matplotlib.pyplot as plt\n",
    "import numpy as np\n",
    "import seaborn as sns\n",
    "sns.set_theme(style=\"whitegrid\")\n",
    "import matplotlib.patches as mpatches"
   ]
  },
  {
   "cell_type": "code",
   "execution_count": null,
   "id": "postal-papua",
   "metadata": {},
   "outputs": [],
   "source": [
    "namedict = {\"base\": \"base\",\n",
    "            1: \"fart\",\n",
    "            2: \"fart\",\n",
    "            3: \"fart\",\n",
    "            4: \"fart\",\n",
    "            5: \"fart\",\n",
    "            6: \"fart\",\n",
    "            7: \"fart\",\n",
    "            8: \"fart\",\n",
    "            9: \"fart\",\n",
    "            10: \"fart\",\n",
    "            11: \"fart\",\n",
    "            12: \"fart\"}"
   ]
  },
  {
   "cell_type": "code",
   "execution_count": 46,
   "id": "injured-middle",
   "metadata": {},
   "outputs": [],
   "source": [
    "loc = \"fe_data\"\n",
    "loc = \"../data/\" + loc + \".txt\"\n",
    "\n",
    "data_df = pd.read_csv(loc, delimiter=\"\\t\", dtype=\"string\")"
   ]
  },
  {
   "cell_type": "code",
   "execution_count": 47,
   "id": "confident-juice",
   "metadata": {},
   "outputs": [],
   "source": [
    "data_df = data_df.iloc[:, :-1]"
   ]
  },
  {
   "cell_type": "code",
   "execution_count": 48,
   "id": "homeless-trading",
   "metadata": {},
   "outputs": [],
   "source": [
    "# Ok, so as we all know Python is retarded when it comes to memory allocation, which means we have to resort ugly constructs like this\n",
    "# C++ for the win\n",
    "temp = data_df.iloc[:, 1:].applymap(lambda value: float(value.replace(\"M\",'')) * 1000000 if \"M\" in value else value)"
   ]
  },
  {
   "cell_type": "code",
   "execution_count": 49,
   "id": "familiar-sound",
   "metadata": {},
   "outputs": [],
   "source": [
    "temp = temp.apply(pd.to_numeric)"
   ]
  },
  {
   "cell_type": "code",
   "execution_count": 50,
   "id": "solved-robinson",
   "metadata": {},
   "outputs": [],
   "source": [
    "data_df = pd.concat([data_df.iloc[:, 0], temp], axis=1)"
   ]
  },
  {
   "cell_type": "code",
   "execution_count": 51,
   "id": "failing-nickname",
   "metadata": {},
   "outputs": [],
   "source": [
    "data_df.set_index(\"Date\", inplace=True)"
   ]
  },
  {
   "cell_type": "markdown",
   "id": "rubber-parliament",
   "metadata": {},
   "source": [
    "## Cost of Illness"
   ]
  },
  {
   "cell_type": "code",
   "execution_count": 52,
   "id": "adolescent-agriculture",
   "metadata": {},
   "outputs": [],
   "source": [
    "scenarios=(\"base\",\"1\",\"2\",\"3\",\"4\",\"11\")"
   ]
  },
  {
   "cell_type": "code",
   "execution_count": 53,
   "id": "unauthorized-truck",
   "metadata": {},
   "outputs": [],
   "source": [
    "coi_df  = pd.DataFrame(data_df.loc[data_df.index.str.contains(\"Cost of Illness\")])"
   ]
  },
  {
   "cell_type": "code",
   "execution_count": 54,
   "id": "flying-annotation",
   "metadata": {},
   "outputs": [],
   "source": [
    "coi_df =coi_df.loc[coi_df.index.str.split(\"_\").str[-1].isin(scenarios)].T"
   ]
  },
  {
   "cell_type": "code",
   "execution_count": 55,
   "id": "alternative-record",
   "metadata": {},
   "outputs": [
    {
     "data": {
      "text/plain": [
       "Date\n",
       "Cost of Illness : fe_scen_11      float64\n",
       "Cost of Illness : fe_scen_4       float64\n",
       "Cost of Illness : fe_scen_3       float64\n",
       "Cost of Illness : fe_scen_base    float64\n",
       "Cost of Illness : fe_scen_2       float64\n",
       "Cost of Illness : fe_scen_1       float64\n",
       "dtype: object"
      ]
     },
     "execution_count": 55,
     "metadata": {},
     "output_type": "execute_result"
    }
   ],
   "source": [
    "coi_df.dtypes"
   ]
  },
  {
   "cell_type": "markdown",
   "id": "detected-calculator",
   "metadata": {},
   "source": [
    "So the following code cell takes forever because the dataset is huuuuUUUUGEEEEEE. Still need to fix that"
   ]
  },
  {
   "cell_type": "code",
   "execution_count": 62,
   "id": "existing-tomorrow",
   "metadata": {},
   "outputs": [
    {
     "data": {
      "image/png": "[encoded data removed]",
      "text/plain": [
       "<Figure size 432x288 with 1 Axes>"
      ]
     },
     "metadata": {},
     "output_type": "display_data"
    }
   ],
   "source": [
    "fig = plt.figure()\n",
    "\n",
    "sns.lineplot(data=coi_df[500:1000])\n",
    "\n",
    "plt.xlabel('Year'); plt.ylabel('Cases')\n",
    "#plt.xticks(np.arange(len(human_cases_df[1:])), np.arange(2020, 2048), rotation=90)\n",
    "plt.title('Cost of Illness')\n",
    "\n",
    "\n",
    "plt.show()"
   ]
  },
  {
   "cell_type": "code",
   "execution_count": null,
   "id": "proof-miller",
   "metadata": {},
   "outputs": [],
   "source": []
  }
 ],
 "metadata": {
  "kernelspec": {
   "display_name": "Python 3",
   "language": "python",
   "name": "python3"
  },
  "language_info": {
   "codemirror_mode": {
    "name": "ipython",
    "version": 3
   },
   "file_extension": ".py",
   "mimetype": "text/x-python",
   "name": "python",
   "nbconvert_exporter": "python",
   "pygments_lexer": "ipython3",
   "version": "3.7.9"
  }
 },
 "nbformat": 4,
 "nbformat_minor": 5
}
