{
 "cells": [
  {
   "cell_type": "code",
   "execution_count": 1,
   "id": "compatible-vocabulary",
   "metadata": {},
   "outputs": [],
   "source": [
    "import pandas as pd\n",
    "import matplotlib.pyplot as plt\n",
    "import numpy as np\n",
    "import seaborn as sns\n",
    "sns.set_theme(style=\"whitegrid\")\n",
    "import matplotlib.patches as mpatches"
   ]
  },
  {
   "cell_type": "code",
   "execution_count": 2,
   "id": "pleased-thesis",
   "metadata": {},
   "outputs": [],
   "source": [
    "def filter_yearly(df):\n",
    "    total = 0\n",
    "    amount = []\n",
    "    for index, row in df.iterrows():\n",
    "        if row[df.columns[0]] > total:\n",
    "            total = row[df.columns[0]] \n",
    "        if (float(index) % 1 == 0):\n",
    "            amount.append(total)\n",
    "            total = 0\n",
    "    return np.array(amount)"
   ]
  },
  {
   "cell_type": "code",
   "execution_count": 3,
   "id": "velvet-leeds",
   "metadata": {},
   "outputs": [],
   "source": [
    "def filter_yearly_avg(df):\n",
    "    total = 0\n",
    "    amount = []\n",
    "    counter = 0\n",
    "    for index, row in df.iterrows():\n",
    "        total += row[df.columns[0]]\n",
    "        counter += 1\n",
    "        if (float(index) % 1 == 0):\n",
    "            amount.append(total/counter)\n",
    "            total, counter = 0, 0\n",
    "    return np.array(amount)"
   ]
  },
  {
   "cell_type": "code",
   "execution_count": 4,
   "id": "arctic-chocolate",
   "metadata": {},
   "outputs": [],
   "source": [
    "def ditch_M(df):\n",
    "    df[df.columns[0]] = df[df.columns[0]].apply(lambda value: float(value.replace(\"M\",'')) * 1000000 if \"M\" in value else value)\n",
    "    return df"
   ]
  },
  {
   "cell_type": "code",
   "execution_count": 5,
   "id": "exclusive-ceremony",
   "metadata": {},
   "outputs": [],
   "source": [
    "all_df = pd.read_csv(\"all.txt\", delimiter=\"\\t\")"
   ]
  },
  {
   "cell_type": "code",
   "execution_count": 6,
   "id": "furnished-citation",
   "metadata": {},
   "outputs": [],
   "source": [
    "all_df = all_df.iloc[:, :-1]"
   ]
  },
  {
   "cell_type": "markdown",
   "id": "traditional-printing",
   "metadata": {},
   "source": [
    "# Human cases\n",
    "Model variable: symptomatic infections"
   ]
  },
  {
   "cell_type": "code",
   "execution_count": 47,
   "id": "cooperative-heaven",
   "metadata": {},
   "outputs": [],
   "source": [
    "human_cases_df = pd.DataFrame(all_df.loc[all_df.Date.str.contains(\"CPY Cases\")].iloc[-1, :])[1:]"
   ]
  },
  {
   "cell_type": "code",
   "execution_count": 48,
   "id": "extra-orlando",
   "metadata": {},
   "outputs": [
    {
     "data": {
      "text/html": [
       "<div>\n",
       "<style scoped>\n",
       "    .dataframe tbody tr th:only-of-type {\n",
       "        vertical-align: middle;\n",
       "    }\n",
       "\n",
       "    .dataframe tbody tr th {\n",
       "        vertical-align: top;\n",
       "    }\n",
       "\n",
       "    .dataframe thead th {\n",
       "        text-align: right;\n",
       "    }\n",
       "</style>\n",
       "<table border=\"1\" class=\"dataframe\">\n",
       "  <thead>\n",
       "    <tr style=\"text-align: right;\">\n",
       "      <th></th>\n",
       "      <th>27</th>\n",
       "    </tr>\n",
       "  </thead>\n",
       "  <tbody>\n",
       "    <tr>\n",
       "      <th>2020</th>\n",
       "      <td>0</td>\n",
       "    </tr>\n",
       "    <tr>\n",
       "      <th>2020.1</th>\n",
       "      <td>64.8</td>\n",
       "    </tr>\n",
       "    <tr>\n",
       "      <th>2020.2</th>\n",
       "      <td>138.061</td>\n",
       "    </tr>\n",
       "    <tr>\n",
       "      <th>2020.3</th>\n",
       "      <td>211.301</td>\n",
       "    </tr>\n",
       "    <tr>\n",
       "      <th>2020.4</th>\n",
       "      <td>284.069</td>\n",
       "    </tr>\n",
       "    <tr>\n",
       "      <th>...</th>\n",
       "      <td>...</td>\n",
       "    </tr>\n",
       "    <tr>\n",
       "      <th>2048.620</th>\n",
       "      <td>78476.5</td>\n",
       "    </tr>\n",
       "    <tr>\n",
       "      <th>2048.621</th>\n",
       "      <td>78626.8</td>\n",
       "    </tr>\n",
       "    <tr>\n",
       "      <th>2048.622</th>\n",
       "      <td>78776.3</td>\n",
       "    </tr>\n",
       "    <tr>\n",
       "      <th>2048.623</th>\n",
       "      <td>78924.9</td>\n",
       "    </tr>\n",
       "    <tr>\n",
       "      <th>2048.624</th>\n",
       "      <td>79072.7</td>\n",
       "    </tr>\n",
       "  </tbody>\n",
       "</table>\n",
       "<p>24001 rows × 1 columns</p>\n",
       "</div>"
      ],
      "text/plain": [
       "               27\n",
       "2020            0\n",
       "2020.1       64.8\n",
       "2020.2    138.061\n",
       "2020.3    211.301\n",
       "2020.4    284.069\n",
       "...           ...\n",
       "2048.620  78476.5\n",
       "2048.621  78626.8\n",
       "2048.622  78776.3\n",
       "2048.623  78924.9\n",
       "2048.624  79072.7\n",
       "\n",
       "[24001 rows x 1 columns]"
      ]
     },
     "execution_count": 48,
     "metadata": {},
     "output_type": "execute_result"
    }
   ],
   "source": [
    "human_cases_df"
   ]
  },
  {
   "cell_type": "code",
   "execution_count": 49,
   "id": "caroline-maple",
   "metadata": {},
   "outputs": [],
   "source": [
    "human_cases_df = ditch_M(human_cases_df)"
   ]
  },
  {
   "cell_type": "code",
   "execution_count": 50,
   "id": "agreed-theta",
   "metadata": {},
   "outputs": [],
   "source": [
    "human_cases_df[human_cases_df.columns[0]] = human_cases_df[human_cases_df.columns[0]].astype(float)"
   ]
  },
  {
   "cell_type": "code",
   "execution_count": 57,
   "id": "exciting-silver",
   "metadata": {},
   "outputs": [],
   "source": [
    "human_cases_df.index = human_cases_df.index.astype(float)"
   ]
  },
  {
   "cell_type": "code",
   "execution_count": null,
   "id": "collectible-masters",
   "metadata": {},
   "outputs": [],
   "source": []
  },
  {
   "cell_type": "code",
   "execution_count": 60,
   "id": "diagnostic-detail",
   "metadata": {},
   "outputs": [],
   "source": [
    "human_cases_years = human_cases_df[human_cases_df.index % 1 == 0]"
   ]
  },
  {
   "cell_type": "code",
   "execution_count": 39,
   "id": "coordinated-channels",
   "metadata": {},
   "outputs": [],
   "source": [
    "vlaanderen = np.array([78970, 67260, 71246])"
   ]
  },
  {
   "cell_type": "code",
   "execution_count": 40,
   "id": "thorough-warren",
   "metadata": {},
   "outputs": [],
   "source": [
    "vlaanderen_avg = np.mean(vlaanderen)"
   ]
  },
  {
   "cell_type": "code",
   "execution_count": 62,
   "id": "voluntary-advertising",
   "metadata": {},
   "outputs": [],
   "source": [
    "human_cases_years =human_cases_years.astype(int)"
   ]
  },
  {
   "cell_type": "code",
   "execution_count": 71,
   "id": "coordinate-adoption",
   "metadata": {},
   "outputs": [
    {
     "data": {
      "image/png": "[encoded data removed]",
      "text/plain": [
       "<Figure size 432x288 with 1 Axes>"
      ]
     },
     "metadata": {},
     "output_type": "display_data"
    }
   ],
   "source": [
    "#plt.plot([vlaanderen_avg] * len(human_cases_years), color=\"red\")\n",
    "human_cases_years[1:].plot.bar(y=human_cases_years.columns[0], use_index=True, color=\"lightblue\") \n",
    "x1 = [0, 27]\n",
    "y2 = [vlaanderen_avg] *2\n",
    "plt.plot(x1, y2, color=\"red\", marker='o')\n",
    "\n",
    "\n",
    "plt.xlabel('Year'); plt.ylabel('Cases')\n",
    "#plt.xticks(np.arange(len(human_cases_years[1:])), np.arange(2020, 2048), rotation=90)\n",
    "plt.title('Amount of symptomatic human cases')\n",
    "plt.legend([\"Results literature\", \"Results model\"])\n",
    "plt.savefig('human_cases.png', dpi=300,  bbox_inches='tight')\n",
    "plt.show()"
   ]
  },
  {
   "cell_type": "code",
   "execution_count": 43,
   "id": "international-evaluation",
   "metadata": {},
   "outputs": [
    {
     "data": {
      "image/png": "[encoded data removed]",
      "text/plain": [
       "<Figure size 432x288 with 1 Axes>"
      ]
     },
     "metadata": {},
     "output_type": "display_data"
    }
   ],
   "source": [
    "ax = sns.boxplot(y=human_cases_years[1:], color=\"lightblue\")\n",
    "x1 = [-0.4, .4]\n",
    "y2 = [vlaanderen_avg] *2\n",
    "plt.plot(x1, y2, color=\"red\")\n",
    "\n",
    "mod_patch = mpatches.Patch(color='lightblue', label='Results model')\n",
    "lit_patch = mpatches.Patch(color=\"red\", label='Results literature')\n",
    "\n",
    "plt.ylabel('Cases')\n",
    "plt.title('Amount of symptomatic human cases')\n",
    "plt.legend(handles=[mod_patch, lit_patch])\n",
    "plt.savefig('human_cases2.png', dpi=300,  bbox_inches='tight')\n",
    "plt.show()"
   ]
  },
  {
   "cell_type": "markdown",
   "id": "moved-depth",
   "metadata": {},
   "source": [
    "# Chickens\n",
    "Model variable: proportion of CPY-positive chickens\n",
    "$41,9$-$58.1\\%$"
   ]
  },
  {
   "cell_type": "code",
   "execution_count": 16,
   "id": "scientific-combining",
   "metadata": {},
   "outputs": [],
   "source": [
    "chickens_df = pd.DataFrame(all_df.loc[all_df.Date.str.contains(\"proportion of CPY-positive chickens\")]).T[1:]"
   ]
  },
  {
   "cell_type": "code",
   "execution_count": 17,
   "id": "pursuant-least",
   "metadata": {},
   "outputs": [],
   "source": [
    "chickens_df[chickens_df.columns[0]] = chickens_df[chickens_df.columns[0]].astype(float)"
   ]
  },
  {
   "cell_type": "code",
   "execution_count": 18,
   "id": "coral-weight",
   "metadata": {},
   "outputs": [],
   "source": [
    "chickens_df[chickens_df.columns[0]] = chickens_df[chickens_df.columns[0]]  * 100"
   ]
  },
  {
   "cell_type": "code",
   "execution_count": 19,
   "id": "ahead-massage",
   "metadata": {},
   "outputs": [],
   "source": [
    "chickens_yearly = filter_yearly_avg(chickens_df)"
   ]
  },
  {
   "cell_type": "code",
   "execution_count": 20,
   "id": "random-dressing",
   "metadata": {},
   "outputs": [
    {
     "data": {
      "text/plain": [
       "array([ 0.        , 41.67468817, 42.38223873, 42.53305485, 42.63339868,\n",
       "       42.71211914, 42.8108188 , 42.9039464 , 42.99269928, 43.05563321,\n",
       "       43.16782974, 43.25236343, 43.32834778, 43.40228995, 43.49859401,\n",
       "       43.59653885, 43.68247998, 43.72543548, 43.84948381, 43.93369664,\n",
       "       44.00511928, 44.07059211, 44.18461355, 44.25241473, 44.35096499,\n",
       "       44.38549976, 44.5148699 , 44.59787398, 44.67896727])"
      ]
     },
     "execution_count": 20,
     "metadata": {},
     "output_type": "execute_result"
    }
   ],
   "source": [
    "chickens_yearly"
   ]
  },
  {
   "cell_type": "code",
   "execution_count": 21,
   "id": "packed-village",
   "metadata": {},
   "outputs": [
    {
     "data": {
      "image/png": "[encoded data removed]",
      "text/plain": [
       "<Figure size 432x288 with 1 Axes>"
      ]
     },
     "metadata": {},
     "output_type": "display_data"
    }
   ],
   "source": [
    "fig = plt.figure()\n",
    "plt.bar(height = chickens_yearly, x = np.arange(len(chickens_yearly)), color=\"lightblue\")\n",
    "plt.xticks(np.arange(len(chickens_yearly)), np.arange(2020, 2049), rotation=90)\n",
    "plt.xlabel('Year'); plt.ylabel('Percentage')\n",
    "plt.title('Percentage of infected chickens per year')\n",
    "plt.legend('',frameon=False)\n",
    "plt.savefig('chickens.png', dpi=300,  bbox_inches='tight')\n",
    "plt.show()"
   ]
  },
  {
   "cell_type": "code",
   "execution_count": 22,
   "id": "charitable-limit",
   "metadata": {},
   "outputs": [
    {
     "data": {
      "image/png": "[encoded data removed]",
      "text/plain": [
       "<Figure size 432x288 with 1 Axes>"
      ]
     },
     "metadata": {},
     "output_type": "display_data"
    }
   ],
   "source": [
    "ax = sns.boxplot(y=chickens_yearly[1:], color=\"lightblue\")\n",
    "plt.ylabel('Percentage')\n",
    "plt.title('Percentage of infected chickens per year')\n",
    "plt.legend('',frameon=False)\n",
    "plt.savefig('chickens2.png', dpi=300,  bbox_inches='tight')\n",
    "plt.show()"
   ]
  },
  {
   "cell_type": "markdown",
   "id": "numerous-angel",
   "metadata": {},
   "source": [
    "# Source\n",
    "Model variable: rate of human infection from environment\n",
    "$20$-$60\\%$ from enviro"
   ]
  },
  {
   "cell_type": "code",
   "execution_count": 23,
   "id": "broke-bankruptcy",
   "metadata": {},
   "outputs": [],
   "source": [
    "env_inf_df  = pd.DataFrame(all_df.loc[all_df.Date.str.contains(\"rate of human infection from environment\")]).iloc[:, 1:].T"
   ]
  },
  {
   "cell_type": "code",
   "execution_count": 24,
   "id": "quarterly-entry",
   "metadata": {},
   "outputs": [],
   "source": [
    "env_inf_df[env_inf_df.columns[0]] = env_inf_df[env_inf_df.columns[0]].astype(float)"
   ]
  },
  {
   "cell_type": "code",
   "execution_count": 25,
   "id": "expensive-share",
   "metadata": {},
   "outputs": [],
   "source": [
    "meat_df = pd.DataFrame(all_df.loc[all_df.Date.str.contains(\"contaminated meat consumption\")]).T[1:]"
   ]
  },
  {
   "cell_type": "code",
   "execution_count": 26,
   "id": "dramatic-check",
   "metadata": {},
   "outputs": [],
   "source": [
    "infection_df = pd.DataFrame(all_df.loc[all_df.Date.str.contains(\"infections per kg of meat consumed\")]).T[1:]"
   ]
  },
  {
   "cell_type": "code",
   "execution_count": 27,
   "id": "involved-toilet",
   "metadata": {},
   "outputs": [],
   "source": [
    "infection_df =infection_df.apply(lambda x: '%.5f' % x, axis=1)"
   ]
  },
  {
   "cell_type": "code",
   "execution_count": 28,
   "id": "middle-tulsa",
   "metadata": {},
   "outputs": [],
   "source": [
    "infection_df =pd.DataFrame(infection_df)"
   ]
  },
  {
   "cell_type": "code",
   "execution_count": 29,
   "id": "measured-folks",
   "metadata": {},
   "outputs": [],
   "source": [
    "meat_df = ditch_M(meat_df)"
   ]
  },
  {
   "cell_type": "code",
   "execution_count": 30,
   "id": "planned-membrane",
   "metadata": {},
   "outputs": [],
   "source": [
    "meat_df[meat_df.columns[0]] = meat_df[meat_df.columns[0]].astype(float)"
   ]
  },
  {
   "cell_type": "code",
   "execution_count": 31,
   "id": "descending-honduras",
   "metadata": {},
   "outputs": [],
   "source": [
    "infection_df[infection_df.columns[0]] = infection_df[infection_df.columns[0]].astype(float)"
   ]
  },
  {
   "cell_type": "code",
   "execution_count": 32,
   "id": "impressive-signal",
   "metadata": {},
   "outputs": [],
   "source": [
    "meat_df[\"consumed\"] = meat_df[meat_df.columns[0]] * infection_df[infection_df.columns[0]] "
   ]
  },
  {
   "cell_type": "code",
   "execution_count": 33,
   "id": "lasting-porcelain",
   "metadata": {},
   "outputs": [],
   "source": [
    "meat_df[\"total\"] = meat_df[\"consumed\"] + env_inf_df[env_inf_df.columns[0]]"
   ]
  },
  {
   "cell_type": "code",
   "execution_count": 34,
   "id": "designing-buyer",
   "metadata": {},
   "outputs": [],
   "source": [
    "meat_df[\"percentage\"] = meat_df[\"consumed\"]/meat_df[\"total\"] * 100"
   ]
  },
  {
   "cell_type": "code",
   "execution_count": 35,
   "id": "distant-sense",
   "metadata": {},
   "outputs": [],
   "source": [
    "yearly_source_avg = filter_yearly_avg(pd.DataFrame(meat_df[\"percentage\"]))"
   ]
  },
  {
   "cell_type": "code",
   "execution_count": 36,
   "id": "interstate-treasury",
   "metadata": {},
   "outputs": [],
   "source": [
    "yearly_source_avg_df = pd.DataFrame(yearly_source_avg).reset_index(drop=True)"
   ]
  },
  {
   "cell_type": "code",
   "execution_count": 37,
   "id": "gentle-forward",
   "metadata": {},
   "outputs": [],
   "source": [
    "yearly_source_avg_df.index += 2020"
   ]
  },
  {
   "cell_type": "code",
   "execution_count": 38,
   "id": "entire-configuration",
   "metadata": {},
   "outputs": [
    {
     "data": {
      "image/png": "[encoded data removed]",
      "text/plain": [
       "<Figure size 432x288 with 1 Axes>"
      ]
     },
     "metadata": {},
     "output_type": "display_data"
    }
   ],
   "source": [
    "#ax = meat_df.plot(y=\"percentage\", use_index=True) \n",
    "#human_cases_df.plot(y=human_cases_df.columns[0], use_index=True, ax = ax) \n",
    "yearly_source_avg_df[2:].plot.bar(y=yearly_source_avg_df.columns[0], use_index=True, color=\"lightblue\") \n",
    "plt.xlabel('Year'); plt.ylabel('Percentage')\n",
    "plt.title('Percentage of infections from meat')\n",
    "plt.legend('',frameon=False)\n",
    "plt.savefig('source.png', dpi=300,  bbox_inches='tight')\n",
    "plt.show()"
   ]
  },
  {
   "cell_type": "code",
   "execution_count": 39,
   "id": "least-cloud",
   "metadata": {},
   "outputs": [
    {
     "data": {
      "image/png": "[encoded data removed]",
      "text/plain": [
       "<Figure size 432x288 with 1 Axes>"
      ]
     },
     "metadata": {},
     "output_type": "display_data"
    }
   ],
   "source": [
    "ax = sns.boxplot(y=yearly_source_avg_df[yearly_source_avg_df.columns[0]][2:], color=\"lightblue\")\n",
    "\n",
    "\n",
    "plt.ylabel('Percentage')\n",
    "plt.title('Percentage of infections from meat')\n",
    "plt.legend('',frameon=False)\n",
    "plt.savefig('source2.png', dpi=300,  bbox_inches='tight')\n",
    "plt.show()"
   ]
  },
  {
   "cell_type": "markdown",
   "id": "proved-burning",
   "metadata": {},
   "source": [
    "# DALYs"
   ]
  },
  {
   "cell_type": "code",
   "execution_count": 40,
   "id": "still-petroleum",
   "metadata": {},
   "outputs": [],
   "source": [
    "dalys_df  = pd.DataFrame(all_df.loc[all_df.Date.str.contains(\"DALY\")].iloc[0])[1:]"
   ]
  },
  {
   "cell_type": "code",
   "execution_count": 41,
   "id": "standing-diving",
   "metadata": {},
   "outputs": [],
   "source": [
    "dalys_df = ditch_M(dalys_df)"
   ]
  },
  {
   "cell_type": "code",
   "execution_count": 42,
   "id": "national-alignment",
   "metadata": {},
   "outputs": [],
   "source": [
    "dalys_df[dalys_df.columns[0]] = dalys_df[dalys_df.columns[0]].astype(float)"
   ]
  },
  {
   "cell_type": "code",
   "execution_count": 43,
   "id": "complimentary-designation",
   "metadata": {},
   "outputs": [],
   "source": [
    "dalys_df.index = dalys_df.index.astype(float)"
   ]
  },
  {
   "cell_type": "code",
   "execution_count": 44,
   "id": "injured-google",
   "metadata": {},
   "outputs": [],
   "source": [
    "dalys_df = dalys_df[dalys_df.index % 1 == 0]"
   ]
  },
  {
   "cell_type": "code",
   "execution_count": 45,
   "id": "textile-sodium",
   "metadata": {},
   "outputs": [],
   "source": [
    "dalys_df[\"diff\"] = dalys_df.diff().iloc[:, -1]"
   ]
  },
  {
   "cell_type": "code",
   "execution_count": 46,
   "id": "mineral-coupon",
   "metadata": {},
   "outputs": [],
   "source": [
    "mangen_dalys_avg = 635"
   ]
  },
  {
   "cell_type": "code",
   "execution_count": 47,
   "id": "floppy-bullet",
   "metadata": {},
   "outputs": [],
   "source": [
    "dalys_df.index = dalys_df.index.astype(int)"
   ]
  },
  {
   "cell_type": "code",
   "execution_count": 48,
   "id": "cheap-intellectual",
   "metadata": {},
   "outputs": [
    {
     "data": {
      "image/png": "[encoded data removed]",
      "text/plain": [
       "<Figure size 432x288 with 1 Axes>"
      ]
     },
     "metadata": {},
     "output_type": "display_data"
    }
   ],
   "source": [
    "dalys_df[2:].plot.bar(y=\"diff\", use_index=True, color=\"lightblue\")\n",
    "x1 = [0, 26]\n",
    "y2 = [mangen_dalys_avg] *2\n",
    "plt.plot(x1, y2, color=\"red\", marker='o')\n",
    "plt.xlabel('Year'); plt.ylabel('Value')\n",
    "plt.title('(unaccumulative) DALYs')\n",
    "plt.legend([\"Results literature 1\", \"Results model\"])\n",
    "plt.savefig('dalys.png', dpi=300,  bbox_inches='tight')\n",
    "plt.show()"
   ]
  },
  {
   "cell_type": "code",
   "execution_count": 49,
   "id": "gorgeous-knock",
   "metadata": {},
   "outputs": [
    {
     "data": {
      "image/png": "[encoded data removed]",
      "text/plain": [
       "<Figure size 432x288 with 1 Axes>"
      ]
     },
     "metadata": {},
     "output_type": "display_data"
    }
   ],
   "source": [
    "ax = sns.boxplot(y=dalys_df[\"diff\"][2:], color=\"lightblue\")\n",
    "x1 = [-0.4, .4]\n",
    "y2 = [mangen_dalys_avg] *2\n",
    "plt.plot(x1, y2, color=\"red\", marker='o')\n",
    "\n",
    "\n",
    "mod_patch = mpatches.Patch(color='lightblue', label='Results model')\n",
    "lit_patch = mpatches.Patch(color=\"red\", label='Results literature')\n",
    "\n",
    "plt.legend(handles=[mod_patch, lit_patch], bbox_to_anchor=(0.3, 0.2))\n",
    "\n",
    "plt.ylabel('Value')\n",
    "plt.title('(unaccumulative) DALYs')\n",
    "plt.savefig('dalys2.png', dpi=300,  bbox_inches='tight')\n",
    "plt.show()"
   ]
  },
  {
   "cell_type": "markdown",
   "id": "amino-circulation",
   "metadata": {},
   "source": [
    "# CoI"
   ]
  },
  {
   "cell_type": "code",
   "execution_count": 50,
   "id": "continuous-michigan",
   "metadata": {},
   "outputs": [],
   "source": [
    "coi_df  = pd.DataFrame(all_df.loc[all_df.Date.str.contains(\"Cost of Illness\")].iloc[0])[1:]"
   ]
  },
  {
   "cell_type": "code",
   "execution_count": 51,
   "id": "searching-engagement",
   "metadata": {},
   "outputs": [],
   "source": [
    "coi_df = ditch_M(coi_df)"
   ]
  },
  {
   "cell_type": "code",
   "execution_count": 52,
   "id": "important-active",
   "metadata": {},
   "outputs": [],
   "source": [
    "coi_df[coi_df.columns[0]] = coi_df[coi_df.columns[0]].astype(float)"
   ]
  },
  {
   "cell_type": "code",
   "execution_count": 53,
   "id": "front-voice",
   "metadata": {},
   "outputs": [],
   "source": [
    "coi_df.index = coi_df.index.astype(float)"
   ]
  },
  {
   "cell_type": "code",
   "execution_count": 54,
   "id": "equivalent-union",
   "metadata": {},
   "outputs": [],
   "source": [
    "coi_df = coi_df[coi_df.index % 1 == 0]"
   ]
  },
  {
   "cell_type": "code",
   "execution_count": 55,
   "id": "steady-claim",
   "metadata": {},
   "outputs": [],
   "source": [
    "coi_df[\"diff\"] = coi_df.diff().iloc[:, -1]"
   ]
  },
  {
   "cell_type": "code",
   "execution_count": 56,
   "id": "empty-junior",
   "metadata": {},
   "outputs": [],
   "source": [
    "#source: mangen et al\n",
    "mangen_coi_avg = 20600 * 1000\n",
    "\n",
    "vlaanderen_coi = np.array([64, 55, 64])\n",
    "vlaanderen_coi_avg = np.mean(vlaanderen_coi)\n"
   ]
  },
  {
   "cell_type": "code",
   "execution_count": 57,
   "id": "burning-listing",
   "metadata": {},
   "outputs": [],
   "source": [
    "coi_df.index = coi_df.index.astype(int)"
   ]
  },
  {
   "cell_type": "code",
   "execution_count": 58,
   "id": "continuous-syndicate",
   "metadata": {},
   "outputs": [
    {
     "data": {
      "image/png": "[encoded data removed]",
      "text/plain": [
       "<Figure size 432x288 with 1 Axes>"
      ]
     },
     "metadata": {},
     "output_type": "display_data"
    }
   ],
   "source": [
    "coi_df[2:].plot.bar(y=\"diff\", use_index=True, color=\"lightblue\")\n",
    "x1, y1 = [0, 26], [mangen_coi_avg,mangen_coi_avg]\n",
    "plt.plot(x1, y1, color=\"red\", marker='o')\n",
    "plt.xlabel('Year'); plt.ylabel('Value')\n",
    "plt.title('(unaccumulative) Cost of Illness')\n",
    "plt.legend([\"Results model\", \"Results literature\"], bbox_to_anchor=(0.39, 0.2))\n",
    "plt.savefig('coi.png', dpi=300,  bbox_inches='tight')\n",
    "plt.show()"
   ]
  },
  {
   "cell_type": "code",
   "execution_count": 59,
   "id": "multiple-valuation",
   "metadata": {},
   "outputs": [
    {
     "data": {
      "image/png": "[encoded data removed]",
      "text/plain": [
       "<Figure size 432x288 with 1 Axes>"
      ]
     },
     "metadata": {},
     "output_type": "display_data"
    }
   ],
   "source": [
    "ax = sns.boxplot(y=coi_df[\"diff\"][2:], color=\"lightblue\")\n",
    "x1 = [-0.4, .4]\n",
    "y2 = [mangen_coi_avg] *2\n",
    "plt.plot(x1, y2, color=\"red\", marker='o')\n",
    "\n",
    "\n",
    "mod_patch = mpatches.Patch(color='lightblue', label='Results model')\n",
    "lit_patch = mpatches.Patch(color=\"red\", label='Results literature')\n",
    "\n",
    "plt.legend(handles=[mod_patch, lit_patch], bbox_to_anchor=(0.45, 0.755))\n",
    "\n",
    "plt.ylabel('Value')\n",
    "plt.title('(unaccumulative) Cost of Illness')\n",
    "plt.savefig('coi2.png', dpi=300,  bbox_inches='tight')\n",
    "plt.show()"
   ]
  },
  {
   "cell_type": "code",
   "execution_count": null,
   "id": "spanish-cholesterol",
   "metadata": {},
   "outputs": [],
   "source": []
  }
 ],
 "metadata": {
  "kernelspec": {
   "display_name": "Python 3",
   "language": "python",
   "name": "python3"
  },
  "language_info": {
   "codemirror_mode": {
    "name": "ipython",
    "version": 3
   },
   "file_extension": ".py",
   "mimetype": "text/x-python",
   "name": "python",
   "nbconvert_exporter": "python",
   "pygments_lexer": "ipython3",
   "version": "3.7.9"
  }
 },
 "nbformat": 4,
 "nbformat_minor": 5
}
