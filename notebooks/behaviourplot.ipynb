{
 "cells": [
  {
   "cell_type": "markdown",
   "id": "political-heart",
   "metadata": {},
   "source": [
    "# Behaviourplots\n",
    "KPI:\n",
    "- Cost of Illness\n",
    "- Contaminated chicken meat\n",
    "- DALY"
   ]
  },
  {
   "cell_type": "code",
   "execution_count": 1,
   "id": "adverse-passport",
   "metadata": {},
   "outputs": [],
   "source": [
    "import pandas as pd\n",
    "import matplotlib.pyplot as plt\n",
    "import numpy as np\n",
    "import seaborn as sns\n",
    "sns.set_theme(style=\"whitegrid\")\n",
    "import matplotlib.patches as mpatches"
   ]
  },
  {
   "cell_type": "code",
   "execution_count": 2,
   "id": "lesser-creek",
   "metadata": {},
   "outputs": [],
   "source": [
    "# What scenarios do u want plotted?\n",
    "scenarios = [\"base\", \"12\"]"
   ]
  },
  {
   "cell_type": "code",
   "execution_count": 3,
   "id": "thick-technology",
   "metadata": {},
   "outputs": [],
   "source": [
    "#What's the name of your file?\n",
    "loc = \"fe_data\""
   ]
  },
  {
   "cell_type": "code",
   "execution_count": 4,
   "id": "hidden-pioneer",
   "metadata": {},
   "outputs": [],
   "source": [
    "namedict = {\"base\": \"base\",\n",
    "            \"1\": \"fart1\",\n",
    "            \"2\": \"fart2\",\n",
    "            \"3\": \"fart3\",\n",
    "            \"4\": \"fart4\",\n",
    "            \"5\": \"fart5\",\n",
    "            \"6\": \"fart6\",\n",
    "            \"7\": \"fart7\",\n",
    "            \"8\": \"fart8\",\n",
    "            \"9\": \"fart9\",\n",
    "            \"10\": \"fart10\",\n",
    "            \"11\": \"fart11\",\n",
    "            \"12\": \"fart12\"}"
   ]
  },
  {
   "cell_type": "code",
   "execution_count": 5,
   "id": "ambient-notice",
   "metadata": {},
   "outputs": [],
   "source": [
    "loc = \"../data/\" + loc + \".txt\"\n",
    "\n",
    "data_df = pd.read_csv(loc, delimiter=\"\\t\", dtype=\"string\")"
   ]
  },
  {
   "cell_type": "code",
   "execution_count": 6,
   "id": "weekly-china",
   "metadata": {},
   "outputs": [],
   "source": [
    "data_df = data_df.iloc[:, :-1]"
   ]
  },
  {
   "cell_type": "code",
   "execution_count": 7,
   "id": "retained-fountain",
   "metadata": {},
   "outputs": [],
   "source": [
    "# Ok, so as we all know Python is retarded when it comes to memory allocation, which means we have to resort ugly constructs like this\n",
    "# C++ for the win\n",
    "temp = data_df.iloc[:, 1:].applymap(lambda value: float(value.replace(\"M\",'')) * 1000000 if \"M\" in value else value)"
   ]
  },
  {
   "cell_type": "code",
   "execution_count": null,
   "id": "vocational-basement",
   "metadata": {},
   "outputs": [],
   "source": [
    "temp = temp.apply(pd.to_numeric)"
   ]
  },
  {
   "cell_type": "code",
   "execution_count": null,
   "id": "mysterious-diana",
   "metadata": {},
   "outputs": [],
   "source": [
    "data_df = pd.concat([data_df.iloc[:, 0], temp], axis=1)"
   ]
  },
  {
   "cell_type": "code",
   "execution_count": null,
   "id": "palestinian-treasurer",
   "metadata": {},
   "outputs": [],
   "source": [
    "data_df.set_index(\"Date\", inplace=True)"
   ]
  },
  {
   "cell_type": "markdown",
   "id": "focal-scout",
   "metadata": {},
   "source": [
    "## Cost of Illness"
   ]
  },
  {
   "cell_type": "code",
   "execution_count": null,
   "id": "rational-fault",
   "metadata": {},
   "outputs": [],
   "source": [
    "coi_df  = pd.DataFrame(data_df.loc[data_df.index.str.contains(\"Cost of Illness\")])"
   ]
  },
  {
   "cell_type": "code",
   "execution_count": null,
   "id": "regulated-retirement",
   "metadata": {},
   "outputs": [],
   "source": [
    "coi_df =coi_df.loc[coi_df.index.str.split(\"_\").str[-1].isin(scenarios)].T"
   ]
  },
  {
   "cell_type": "code",
   "execution_count": null,
   "id": "acceptable-cable",
   "metadata": {},
   "outputs": [],
   "source": [
    "coi_df.columns = coi_df.columns.to_series().apply(lambda value: namedict[value.split(\"_\")[-1]])"
   ]
  },
  {
   "cell_type": "markdown",
   "id": "committed-colombia",
   "metadata": {},
   "source": [
    "So the following code cell takes forever because the dataset is huuuuUUUUGEEEEEE. Still need to fix that"
   ]
  },
  {
   "cell_type": "code",
   "execution_count": null,
   "id": "cordless-album",
   "metadata": {},
   "outputs": [],
   "source": [
    "fig, ax = plt.subplots(figsize = (10,10)) \n",
    "\n",
    "sns.lineplot(data=coi_df[500:1000])\n",
    "\n",
    "plt.xlabel('Year'); plt.ylabel('Cases')\n",
    "#plt.xticks(np.arange(len(human_cases_df[1:])), np.arange(2020, 2048), rotation=90)\n",
    "plt.title('Cost of Illness')\n",
    "\n",
    "\n",
    "plt.show()"
   ]
  },
  {
   "cell_type": "code",
   "execution_count": null,
   "id": "romance-ballot",
   "metadata": {},
   "outputs": [],
   "source": []
  }
 ],
 "metadata": {
  "kernelspec": {
   "display_name": "Python 3",
   "language": "python",
   "name": "python3"
  },
  "language_info": {
   "codemirror_mode": {
    "name": "ipython",
    "version": 3
   },
   "file_extension": ".py",
   "mimetype": "text/x-python",
   "name": "python",
   "nbconvert_exporter": "python",
   "pygments_lexer": "ipython3",
   "version": "3.7.9"
  }
 },
 "nbformat": 4,
 "nbformat_minor": 5
}
