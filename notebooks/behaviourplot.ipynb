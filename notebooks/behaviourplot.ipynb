{
 "cells": [
  {
   "cell_type": "markdown",
   "id": "operational-inflation",
   "metadata": {},
   "source": [
    "# Behaviourplots\n",
    "KPI:\n",
    "- Cost of Illness\n",
    "- Contaminated chicken meat\n",
    "- DALY"
   ]
  },
  {
   "cell_type": "code",
   "execution_count": 1,
   "id": "related-category",
   "metadata": {},
   "outputs": [],
   "source": [
    "import pandas as pd\n",
    "import matplotlib.pyplot as plt\n",
    "import numpy as np\n",
    "import seaborn as sns\n",
    "sns.set_theme(style=\"whitegrid\")\n",
    "import matplotlib.patches as mpatches"
   ]
  },
  {
   "cell_type": "code",
   "execution_count": 2,
   "id": "hollywood-mercy",
   "metadata": {},
   "outputs": [],
   "source": [
    "# What scenarios do u want plotted?\n",
    "scenarios = [\"base\", \"12\"]"
   ]
  },
  {
   "cell_type": "code",
   "execution_count": 3,
   "id": "imported-buyer",
   "metadata": {},
   "outputs": [],
   "source": [
    "#What's the name of ur file?\n",
    "loc = \"fe_data\""
   ]
  },
  {
   "cell_type": "code",
   "execution_count": 4,
   "id": "ranging-collectible",
   "metadata": {},
   "outputs": [],
   "source": [
    "#What's ur policy called?\n",
    "policy = \"Fly exposure\""
   ]
  },
  {
   "cell_type": "markdown",
   "id": "sophisticated-rating",
   "metadata": {},
   "source": [
    "## Everything below only needs to be run"
   ]
  },
  {
   "cell_type": "code",
   "execution_count": 5,
   "id": "cross-funeral",
   "metadata": {},
   "outputs": [],
   "source": [
    "namedict = {\"base\": \"base\",\n",
    "            \"1\": \"fart1\",\n",
    "            \"2\": \"fart2\",\n",
    "            \"3\": \"fart3\",\n",
    "            \"4\": \"fart4\",\n",
    "            \"5\": \"fart5\",\n",
    "            \"6\": \"fart6\",\n",
    "            \"7\": \"fart7\",\n",
    "            \"8\": \"fart8\",\n",
    "            \"9\": \"fart9\",\n",
    "            \"10\": \"fart10\",\n",
    "            \"11\": \"fart11\",\n",
    "            \"12\": \"fart12\"}"
   ]
  },
  {
   "cell_type": "code",
   "execution_count": 6,
   "id": "detailed-harris",
   "metadata": {},
   "outputs": [],
   "source": [
    "location = \"../data/\" + loc + \".txt\"\n",
    "\n",
    "data_df = pd.read_csv(location, delimiter=\"\\t\", dtype=\"string\")"
   ]
  },
  {
   "cell_type": "code",
   "execution_count": 7,
   "id": "joined-perfume",
   "metadata": {},
   "outputs": [],
   "source": [
    "data_df = data_df.iloc[:, :-1]"
   ]
  },
  {
   "cell_type": "code",
   "execution_count": 8,
   "id": "possible-natural",
   "metadata": {},
   "outputs": [],
   "source": [
    "# Ok, so as we all know Python is retarded when it comes to memory allocation, which means we have to resort ugly constructs like this\n",
    "# C++ for the win\n",
    "temp = data_df.iloc[:, 1:].applymap(lambda value: float(value.replace(\"M\",'')) * 1000000 if \"M\" in value else value)"
   ]
  },
  {
   "cell_type": "code",
   "execution_count": 9,
   "id": "expired-ticket",
   "metadata": {},
   "outputs": [],
   "source": [
    "temp = temp.apply(pd.to_numeric)"
   ]
  },
  {
   "cell_type": "code",
   "execution_count": 10,
   "id": "dynamic-simulation",
   "metadata": {},
   "outputs": [],
   "source": [
    "data_df = pd.concat([data_df.iloc[:, 0], temp], axis=1)"
   ]
  },
  {
   "cell_type": "code",
   "execution_count": 11,
   "id": "fleet-effect",
   "metadata": {},
   "outputs": [],
   "source": [
    "data_df.set_index(\"Date\", inplace=True)"
   ]
  },
  {
   "cell_type": "markdown",
   "id": "binary-huntington",
   "metadata": {},
   "source": [
    "## Cost of Illness"
   ]
  },
  {
   "cell_type": "code",
   "execution_count": 12,
   "id": "rental-converter",
   "metadata": {},
   "outputs": [],
   "source": [
    "coi_df = pd.DataFrame(data_df.loc[data_df.index.str.contains(\"Cost of Illness\")])"
   ]
  },
  {
   "cell_type": "code",
   "execution_count": 13,
   "id": "boolean-parent",
   "metadata": {},
   "outputs": [],
   "source": [
    "coi_df = coi_df.loc[coi_df.index.str.split(\"_\").str[-1].isin(scenarios)].T"
   ]
  },
  {
   "cell_type": "code",
   "execution_count": 14,
   "id": "monetary-waste",
   "metadata": {},
   "outputs": [],
   "source": [
    "coi_df.columns = coi_df.columns.to_series().apply(lambda value: namedict[value.split(\"_\")[-1]])"
   ]
  },
  {
   "cell_type": "markdown",
   "id": "violent-steam",
   "metadata": {},
   "source": [
    "So the following code cell takes forever because the dataset is huuuuUUUUGEEEEEE. Still need to fix that"
   ]
  },
  {
   "cell_type": "code",
   "execution_count": 15,
   "id": "necessary-little",
   "metadata": {},
   "outputs": [
    {
     "data": {
      "image/png": "[encoded data removed]",
      "text/plain": [
       "<Figure size 720x720 with 1 Axes>"
      ]
     },
     "metadata": {},
     "output_type": "display_data"
    }
   ],
   "source": [
    "fig, ax = plt.subplots(figsize = (10,10)) \n",
    "\n",
    "sns.lineplot(data=coi_df[500:1000])\n",
    "\n",
    "plt.xlabel('Year'); plt.ylabel('Cases')\n",
    "plt.title(policy + ': Cost of Illness')\n",
    "plt.legend(title=\"Scenarios\")\n",
    "ax.grid(False)\n",
    "\n",
    "plt.savefig(\"../images/\" + loc[:2] + \"_coi.png\", dpi=300, bbox_inches='tight')\n",
    "plt.show()"
   ]
  },
  {
   "cell_type": "code",
   "execution_count": null,
   "id": "varying-sheriff",
   "metadata": {},
   "outputs": [],
   "source": []
  }
 ],
 "metadata": {
  "kernelspec": {
   "display_name": "Python 3",
   "language": "python",
   "name": "python3"
  },
  "language_info": {
   "codemirror_mode": {
    "name": "ipython",
    "version": 3
   },
   "file_extension": ".py",
   "mimetype": "text/x-python",
   "name": "python",
   "nbconvert_exporter": "python",
   "pygments_lexer": "ipython3",
   "version": "3.7.9"
  }
 },
 "nbformat": 4,
 "nbformat_minor": 5
}
