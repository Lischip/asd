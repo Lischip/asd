{
 "cells": [
  {
   "cell_type": "code",
   "execution_count": 95,
   "id": "amateur-conservation",
   "metadata": {},
   "outputs": [],
   "source": [
    "import pandas as pd\n",
    "import matplotlib.pyplot as plt\n",
    "import numpy as np"
   ]
  },
  {
   "cell_type": "code",
   "execution_count": 96,
   "id": "generic-polymer",
   "metadata": {},
   "outputs": [],
   "source": [
    "def filter_yearly(df):\n",
    "    total = 0\n",
    "    amount = []\n",
    "    for index, row in df.iterrows():\n",
    "        total += row[df.columns[0]]\n",
    "        if (float(index) % 1 == 0):\n",
    "            amount.append(total)\n",
    "            total = 0\n",
    "    return np.array(amount)"
   ]
  },
  {
   "cell_type": "code",
   "execution_count": 97,
   "id": "peaceful-atlas",
   "metadata": {},
   "outputs": [],
   "source": [
    "def filter_yearly_avg(df):\n",
    "    total = 0\n",
    "    amount = []\n",
    "    counter = 0\n",
    "    for index, row in df.iterrows():\n",
    "        total += row[df.columns[0]]\n",
    "        counter += 1\n",
    "        if (float(index) % 1 == 0):\n",
    "            amount.append(total/counter)\n",
    "            total, counter = 0, 0\n",
    "    return np.array(amount)"
   ]
  },
  {
   "cell_type": "code",
   "execution_count": 98,
   "id": "rental-hostel",
   "metadata": {},
   "outputs": [],
   "source": [
    "def ditch_M(df):\n",
    "    df[df.columns[0]] = df[df.columns[0]].apply(lambda value: float(value.replace(\"M\",'')) * 1000000 if \"M\" in value else value)\n",
    "    return df"
   ]
  },
  {
   "cell_type": "code",
   "execution_count": 99,
   "id": "checked-gallery",
   "metadata": {},
   "outputs": [],
   "source": [
    "all_df = pd.read_csv(\"all.txt\", delimiter=\"\\t\")"
   ]
  },
  {
   "cell_type": "code",
   "execution_count": 100,
   "id": "republican-atlantic",
   "metadata": {},
   "outputs": [],
   "source": [
    "all_df = all_df.iloc[:, :-1]"
   ]
  },
  {
   "cell_type": "markdown",
   "id": "broadband-holocaust",
   "metadata": {},
   "source": [
    "# Human cases\n",
    "Model variable: symptomatic infections"
   ]
  },
  {
   "cell_type": "code",
   "execution_count": 271,
   "id": "offshore-cleaning",
   "metadata": {},
   "outputs": [],
   "source": [
    "human_cases_df = pd.DataFrame(all_df.loc[all_df.Date.str.contains(\"symptomatic infections\")].iloc[-1, :])[1:]"
   ]
  },
  {
   "cell_type": "code",
   "execution_count": 272,
   "id": "vanilla-opera",
   "metadata": {},
   "outputs": [],
   "source": [
    "human_cases_df = ditch_M(human_cases_df)"
   ]
  },
  {
   "cell_type": "code",
   "execution_count": 273,
   "id": "vertical-cycle",
   "metadata": {},
   "outputs": [],
   "source": [
    "human_cases_df[human_cases_df.columns[0]] = human_cases_df[human_cases_df.columns[0]].astype(float)"
   ]
  },
  {
   "cell_type": "code",
   "execution_count": 274,
   "id": "exposed-values",
   "metadata": {},
   "outputs": [],
   "source": [
    "human_cases_years = filter_yearly(human_cases_df)"
   ]
  },
  {
   "cell_type": "code",
   "execution_count": 275,
   "id": "connected-birmingham",
   "metadata": {},
   "outputs": [],
   "source": [
    "vlaanderen = np.array([78970, 67260, 71246])"
   ]
  },
  {
   "cell_type": "code",
   "execution_count": 276,
   "id": "domestic-spectrum",
   "metadata": {},
   "outputs": [],
   "source": [
    "vlaanderen_avg = np.mean(vlaanderen)"
   ]
  },
  {
   "cell_type": "code",
   "execution_count": 277,
   "id": "significant-activity",
   "metadata": {},
   "outputs": [],
   "source": [
    "human_cases_years =human_cases_years.astype(int)"
   ]
  },
  {
   "cell_type": "code",
   "execution_count": 417,
   "id": "korean-steps",
   "metadata": {},
   "outputs": [
    {
     "data": {
      "image/png": "[encoded data removed]",
      "text/plain": [
       "<Figure size 432x288 with 1 Axes>"
      ]
     },
     "metadata": {
      "needs_background": "light"
     },
     "output_type": "display_data"
    }
   ],
   "source": [
    "#plt.plot([vlaanderen_avg] * len(human_cases_years), color=\"red\")\n",
    "x1 = [0, 27]\n",
    "y2 = [vlaanderen_avg] *2\n",
    "plt.plot(x1, y2, color=\"red\", marker='o')\n",
    "\n",
    "plt.bar(height = human_cases_years[1:], x = np.arange(len(human_cases_years[1:])), color=\"lightblue\")\n",
    "plt.xlabel('Year'); plt.ylabel('Cases')\n",
    "plt.xticks(np.arange(len(human_cases_years[1:])), np.arange(2020, 2048), rotation=90)\n",
    "plt.title('Amount of symptomatic human cases')\n",
    "plt.legend([\"Results literature\", \"Results model\"])\n",
    "plt.savefig('human_cases.png', dpi=300,  bbox_inches='tight')\n",
    "plt.show()"
   ]
  },
  {
   "cell_type": "markdown",
   "id": "moving-sculpture",
   "metadata": {},
   "source": [
    "# Chickens\n",
    "Model variable: proportion of CPY-positive chickens\n",
    "$41,9$-$58.1\\%$"
   ]
  },
  {
   "cell_type": "code",
   "execution_count": 339,
   "id": "incident-spiritual",
   "metadata": {},
   "outputs": [],
   "source": [
    "chickens_df = pd.DataFrame(all_df.loc[all_df.Date.str.contains(\"proportion of CPY-positive chickens\")]).T[1:]"
   ]
  },
  {
   "cell_type": "code",
   "execution_count": 265,
   "id": "cultural-portfolio",
   "metadata": {},
   "outputs": [],
   "source": [
    "chickens_df[chickens_df.columns[0]] = chickens_df[chickens_df.columns[0]].astype(float)"
   ]
  },
  {
   "cell_type": "code",
   "execution_count": 266,
   "id": "labeled-castle",
   "metadata": {},
   "outputs": [],
   "source": [
    "chickens_df[chickens_df.columns[0]] = chickens_df[chickens_df.columns[0]]  * 100"
   ]
  },
  {
   "cell_type": "code",
   "execution_count": 267,
   "id": "efficient-tuesday",
   "metadata": {},
   "outputs": [],
   "source": [
    "chickens_yearly = filter_yearly_avg(chickens_df)"
   ]
  },
  {
   "cell_type": "code",
   "execution_count": 268,
   "id": "entire-carol",
   "metadata": {},
   "outputs": [
    {
     "data": {
      "text/plain": [
       "array([ 0.        , 41.67468817, 42.38223873, 42.53305485, 42.63339868,\n",
       "       42.71211914, 42.8108188 , 42.9039464 , 42.99269928, 43.05563321,\n",
       "       43.16782974, 43.25236343, 43.32834778, 43.40228995, 43.49859401,\n",
       "       43.59653885, 43.68247998, 43.72543548, 43.84948381, 43.93369664,\n",
       "       44.00511928, 44.07059211, 44.18461355, 44.25241473, 44.35096499,\n",
       "       44.38549976, 44.5148699 , 44.59787398, 44.67896727])"
      ]
     },
     "execution_count": 268,
     "metadata": {},
     "output_type": "execute_result"
    }
   ],
   "source": [
    "chickens_yearly"
   ]
  },
  {
   "cell_type": "code",
   "execution_count": 269,
   "id": "based-microwave",
   "metadata": {},
   "outputs": [
    {
     "data": {
      "image/png": "[encoded data removed]",
      "text/plain": [
       "<Figure size 432x288 with 1 Axes>"
      ]
     },
     "metadata": {
      "needs_background": "light"
     },
     "output_type": "display_data"
    }
   ],
   "source": [
    "fig = plt.figure()\n",
    "plt.bar(height = chickens_yearly, x = np.arange(len(chickens_yearly)), color=\"lightblue\")\n",
    "plt.xticks(np.arange(len(chickens_yearly)), np.arange(2020, 2049), rotation=90)\n",
    "plt.xlabel('Year'); plt.ylabel('Percentage')\n",
    "plt.title('Percentage of infected chickens per year')\n",
    "plt.legend('',frameon=False)\n",
    "plt.savefig('chickens.png', dpi=300,  bbox_inches='tight')\n",
    "plt.show()"
   ]
  },
  {
   "cell_type": "markdown",
   "id": "coated-affairs",
   "metadata": {},
   "source": [
    "# Source\n",
    "Model variable: rate of human infection from environment\n",
    "$20$-$60\\%$ from enviro"
   ]
  },
  {
   "cell_type": "code",
   "execution_count": 356,
   "id": "norman-survival",
   "metadata": {},
   "outputs": [],
   "source": [
    "env_inf_df  = pd.DataFrame(all_df.loc[all_df.Date.str.contains(\"rate of human infection from environment\")]).iloc[:, 1:].T"
   ]
  },
  {
   "cell_type": "code",
   "execution_count": 358,
   "id": "rational-lawsuit",
   "metadata": {},
   "outputs": [],
   "source": [
    "env_inf_df[env_inf_df.columns[0]] = env_inf_df[env_inf_df.columns[0]].astype(float)"
   ]
  },
  {
   "cell_type": "code",
   "execution_count": 340,
   "id": "operating-begin",
   "metadata": {},
   "outputs": [],
   "source": [
    "meat_df = pd.DataFrame(all_df.loc[all_df.Date.str.contains(\"contaminated meat consumption\")]).T[1:]"
   ]
  },
  {
   "cell_type": "code",
   "execution_count": 341,
   "id": "encouraging-advertising",
   "metadata": {},
   "outputs": [],
   "source": [
    "infection_df = pd.DataFrame(all_df.loc[all_df.Date.str.contains(\"infections per kg of meat consumed\")]).T[1:]"
   ]
  },
  {
   "cell_type": "code",
   "execution_count": 342,
   "id": "structural-customer",
   "metadata": {},
   "outputs": [],
   "source": [
    "infection_df =infection_df.apply(lambda x: '%.5f' % x, axis=1)"
   ]
  },
  {
   "cell_type": "code",
   "execution_count": 344,
   "id": "forward-refund",
   "metadata": {},
   "outputs": [],
   "source": [
    "infection_df =pd.DataFrame(infection_df)"
   ]
  },
  {
   "cell_type": "code",
   "execution_count": 348,
   "id": "neural-registrar",
   "metadata": {},
   "outputs": [],
   "source": [
    "meat_df = ditch_M(meat_df)"
   ]
  },
  {
   "cell_type": "code",
   "execution_count": 349,
   "id": "alert-celebration",
   "metadata": {},
   "outputs": [],
   "source": [
    "meat_df[meat_df.columns[0]] = meat_df[meat_df.columns[0]].astype(float)"
   ]
  },
  {
   "cell_type": "code",
   "execution_count": 350,
   "id": "forced-excerpt",
   "metadata": {},
   "outputs": [],
   "source": [
    "infection_df[infection_df.columns[0]] = infection_df[infection_df.columns[0]].astype(float)"
   ]
  },
  {
   "cell_type": "code",
   "execution_count": 352,
   "id": "collective-fetish",
   "metadata": {},
   "outputs": [],
   "source": [
    "meat_df[\"consumed\"] = meat_df[meat_df.columns[0]] * infection_df[infection_df.columns[0]] "
   ]
  },
  {
   "cell_type": "code",
   "execution_count": 359,
   "id": "convertible-founder",
   "metadata": {},
   "outputs": [],
   "source": [
    "meat_df[\"total\"] = meat_df[\"consumed\"] + env_inf_df[env_inf_df.columns[0]]"
   ]
  },
  {
   "cell_type": "code",
   "execution_count": 361,
   "id": "competent-relaxation",
   "metadata": {},
   "outputs": [],
   "source": [
    "meat_df[\"percentage\"] = meat_df[\"consumed\"]/meat_df[\"total\"] * 100"
   ]
  },
  {
   "cell_type": "code",
   "execution_count": 363,
   "id": "pretty-fossil",
   "metadata": {},
   "outputs": [
    {
     "data": {
      "text/html": [
       "<div>\n",
       "<style scoped>\n",
       "    .dataframe tbody tr th:only-of-type {\n",
       "        vertical-align: middle;\n",
       "    }\n",
       "\n",
       "    .dataframe tbody tr th {\n",
       "        vertical-align: top;\n",
       "    }\n",
       "\n",
       "    .dataframe thead th {\n",
       "        text-align: right;\n",
       "    }\n",
       "</style>\n",
       "<table border=\"1\" class=\"dataframe\">\n",
       "  <thead>\n",
       "    <tr style=\"text-align: right;\">\n",
       "      <th></th>\n",
       "      <th>24</th>\n",
       "      <th>consumed</th>\n",
       "      <th>total</th>\n",
       "      <th>percentage</th>\n",
       "    </tr>\n",
       "  </thead>\n",
       "  <tbody>\n",
       "    <tr>\n",
       "      <th>2020</th>\n",
       "      <td>0.0000</td>\n",
       "      <td>0.000000</td>\n",
       "      <td>1036.800000</td>\n",
       "      <td>0.000000</td>\n",
       "    </tr>\n",
       "    <tr>\n",
       "      <th>2020.1</th>\n",
       "      <td>0.0000</td>\n",
       "      <td>0.000000</td>\n",
       "      <td>1172.180000</td>\n",
       "      <td>0.000000</td>\n",
       "    </tr>\n",
       "    <tr>\n",
       "      <th>2020.2</th>\n",
       "      <td>71.2207</td>\n",
       "      <td>0.003561</td>\n",
       "      <td>1171.833561</td>\n",
       "      <td>0.000304</td>\n",
       "    </tr>\n",
       "    <tr>\n",
       "      <th>2020.3</th>\n",
       "      <td>320.9210</td>\n",
       "      <td>0.016046</td>\n",
       "      <td>1164.286046</td>\n",
       "      <td>0.001378</td>\n",
       "    </tr>\n",
       "    <tr>\n",
       "      <th>2020.4</th>\n",
       "      <td>834.4620</td>\n",
       "      <td>0.041723</td>\n",
       "      <td>1155.361723</td>\n",
       "      <td>0.003611</td>\n",
       "    </tr>\n",
       "    <tr>\n",
       "      <th>2020.5</th>\n",
       "      <td>1681.8200</td>\n",
       "      <td>0.084091</td>\n",
       "      <td>1146.084091</td>\n",
       "      <td>0.007337</td>\n",
       "    </tr>\n",
       "    <tr>\n",
       "      <th>2020.6</th>\n",
       "      <td>2919.5800</td>\n",
       "      <td>0.145979</td>\n",
       "      <td>1136.725979</td>\n",
       "      <td>0.012842</td>\n",
       "    </tr>\n",
       "    <tr>\n",
       "      <th>2020.7</th>\n",
       "      <td>4592.5700</td>\n",
       "      <td>0.229628</td>\n",
       "      <td>1127.429629</td>\n",
       "      <td>0.020367</td>\n",
       "    </tr>\n",
       "    <tr>\n",
       "      <th>2020.8</th>\n",
       "      <td>6735.2000</td>\n",
       "      <td>0.336760</td>\n",
       "      <td>1118.216760</td>\n",
       "      <td>0.030116</td>\n",
       "    </tr>\n",
       "    <tr>\n",
       "      <th>2020.9</th>\n",
       "      <td>9372.8000</td>\n",
       "      <td>0.468640</td>\n",
       "      <td>1109.128640</td>\n",
       "      <td>0.042253</td>\n",
       "    </tr>\n",
       "    <tr>\n",
       "      <th>2020.10</th>\n",
       "      <td>12522.7000</td>\n",
       "      <td>0.626135</td>\n",
       "      <td>1100.176135</td>\n",
       "      <td>0.056912</td>\n",
       "    </tr>\n",
       "    <tr>\n",
       "      <th>2020.11</th>\n",
       "      <td>16195.1000</td>\n",
       "      <td>0.809755</td>\n",
       "      <td>1091.359755</td>\n",
       "      <td>0.074197</td>\n",
       "    </tr>\n",
       "    <tr>\n",
       "      <th>2020.12</th>\n",
       "      <td>20394.5000</td>\n",
       "      <td>1.019725</td>\n",
       "      <td>1082.689725</td>\n",
       "      <td>0.094184</td>\n",
       "    </tr>\n",
       "    <tr>\n",
       "      <th>2020.13</th>\n",
       "      <td>25119.7000</td>\n",
       "      <td>1.255985</td>\n",
       "      <td>1074.155985</td>\n",
       "      <td>0.116928</td>\n",
       "    </tr>\n",
       "    <tr>\n",
       "      <th>2020.14</th>\n",
       "      <td>30365.2000</td>\n",
       "      <td>1.518260</td>\n",
       "      <td>1065.758260</td>\n",
       "      <td>0.142458</td>\n",
       "    </tr>\n",
       "    <tr>\n",
       "      <th>2020.15</th>\n",
       "      <td>36121.8000</td>\n",
       "      <td>1.806090</td>\n",
       "      <td>1057.506090</td>\n",
       "      <td>0.170788</td>\n",
       "    </tr>\n",
       "    <tr>\n",
       "      <th>2020.16</th>\n",
       "      <td>42376.8000</td>\n",
       "      <td>2.118840</td>\n",
       "      <td>1049.398840</td>\n",
       "      <td>0.201910</td>\n",
       "    </tr>\n",
       "    <tr>\n",
       "      <th>2020.17</th>\n",
       "      <td>49114.8000</td>\n",
       "      <td>2.455740</td>\n",
       "      <td>1041.425740</td>\n",
       "      <td>0.235806</td>\n",
       "    </tr>\n",
       "    <tr>\n",
       "      <th>2020.18</th>\n",
       "      <td>56318.2000</td>\n",
       "      <td>2.815910</td>\n",
       "      <td>1033.585910</td>\n",
       "      <td>0.272441</td>\n",
       "    </tr>\n",
       "    <tr>\n",
       "      <th>2020.19</th>\n",
       "      <td>63967.5000</td>\n",
       "      <td>3.198375</td>\n",
       "      <td>1025.878375</td>\n",
       "      <td>0.311769</td>\n",
       "    </tr>\n",
       "    <tr>\n",
       "      <th>2020.20</th>\n",
       "      <td>72041.9000</td>\n",
       "      <td>3.602095</td>\n",
       "      <td>1018.292095</td>\n",
       "      <td>0.353739</td>\n",
       "    </tr>\n",
       "    <tr>\n",
       "      <th>2020.21</th>\n",
       "      <td>80519.2000</td>\n",
       "      <td>4.025960</td>\n",
       "      <td>1010.845960</td>\n",
       "      <td>0.398276</td>\n",
       "    </tr>\n",
       "    <tr>\n",
       "      <th>2020.22</th>\n",
       "      <td>89376.5000</td>\n",
       "      <td>4.468825</td>\n",
       "      <td>1003.516825</td>\n",
       "      <td>0.445316</td>\n",
       "    </tr>\n",
       "    <tr>\n",
       "      <th>2020.23</th>\n",
       "      <td>98590.3000</td>\n",
       "      <td>4.929515</td>\n",
       "      <td>996.310515</td>\n",
       "      <td>0.494777</td>\n",
       "    </tr>\n",
       "    <tr>\n",
       "      <th>2020.24</th>\n",
       "      <td>108137.0000</td>\n",
       "      <td>5.406850</td>\n",
       "      <td>989.222850</td>\n",
       "      <td>0.546576</td>\n",
       "    </tr>\n",
       "    <tr>\n",
       "      <th>2020.25</th>\n",
       "      <td>117992.0000</td>\n",
       "      <td>5.899600</td>\n",
       "      <td>982.251600</td>\n",
       "      <td>0.600620</td>\n",
       "    </tr>\n",
       "    <tr>\n",
       "      <th>2020.26</th>\n",
       "      <td>128131.0000</td>\n",
       "      <td>6.406550</td>\n",
       "      <td>975.393550</td>\n",
       "      <td>0.656817</td>\n",
       "    </tr>\n",
       "    <tr>\n",
       "      <th>2020.27</th>\n",
       "      <td>138531.0000</td>\n",
       "      <td>6.926550</td>\n",
       "      <td>968.645550</td>\n",
       "      <td>0.715076</td>\n",
       "    </tr>\n",
       "    <tr>\n",
       "      <th>2020.28</th>\n",
       "      <td>149169.0000</td>\n",
       "      <td>7.458450</td>\n",
       "      <td>962.005450</td>\n",
       "      <td>0.775302</td>\n",
       "    </tr>\n",
       "    <tr>\n",
       "      <th>2020.29</th>\n",
       "      <td>160019.0000</td>\n",
       "      <td>8.000950</td>\n",
       "      <td>955.469950</td>\n",
       "      <td>0.837384</td>\n",
       "    </tr>\n",
       "  </tbody>\n",
       "</table>\n",
       "</div>"
      ],
      "text/plain": [
       "                  24  consumed        total  percentage\n",
       "2020          0.0000  0.000000  1036.800000    0.000000\n",
       "2020.1        0.0000  0.000000  1172.180000    0.000000\n",
       "2020.2       71.2207  0.003561  1171.833561    0.000304\n",
       "2020.3      320.9210  0.016046  1164.286046    0.001378\n",
       "2020.4      834.4620  0.041723  1155.361723    0.003611\n",
       "2020.5     1681.8200  0.084091  1146.084091    0.007337\n",
       "2020.6     2919.5800  0.145979  1136.725979    0.012842\n",
       "2020.7     4592.5700  0.229628  1127.429629    0.020367\n",
       "2020.8     6735.2000  0.336760  1118.216760    0.030116\n",
       "2020.9     9372.8000  0.468640  1109.128640    0.042253\n",
       "2020.10   12522.7000  0.626135  1100.176135    0.056912\n",
       "2020.11   16195.1000  0.809755  1091.359755    0.074197\n",
       "2020.12   20394.5000  1.019725  1082.689725    0.094184\n",
       "2020.13   25119.7000  1.255985  1074.155985    0.116928\n",
       "2020.14   30365.2000  1.518260  1065.758260    0.142458\n",
       "2020.15   36121.8000  1.806090  1057.506090    0.170788\n",
       "2020.16   42376.8000  2.118840  1049.398840    0.201910\n",
       "2020.17   49114.8000  2.455740  1041.425740    0.235806\n",
       "2020.18   56318.2000  2.815910  1033.585910    0.272441\n",
       "2020.19   63967.5000  3.198375  1025.878375    0.311769\n",
       "2020.20   72041.9000  3.602095  1018.292095    0.353739\n",
       "2020.21   80519.2000  4.025960  1010.845960    0.398276\n",
       "2020.22   89376.5000  4.468825  1003.516825    0.445316\n",
       "2020.23   98590.3000  4.929515   996.310515    0.494777\n",
       "2020.24  108137.0000  5.406850   989.222850    0.546576\n",
       "2020.25  117992.0000  5.899600   982.251600    0.600620\n",
       "2020.26  128131.0000  6.406550   975.393550    0.656817\n",
       "2020.27  138531.0000  6.926550   968.645550    0.715076\n",
       "2020.28  149169.0000  7.458450   962.005450    0.775302\n",
       "2020.29  160019.0000  8.000950   955.469950    0.837384"
      ]
     },
     "execution_count": 363,
     "metadata": {},
     "output_type": "execute_result"
    }
   ],
   "source": [
    "meat_df.head(30)"
   ]
  },
  {
   "cell_type": "code",
   "execution_count": 383,
   "id": "typical-still",
   "metadata": {},
   "outputs": [],
   "source": [
    "yearly_source_avg = filter_yearly_avg(pd.DataFrame(meat_df[\"percentage\"]))"
   ]
  },
  {
   "cell_type": "code",
   "execution_count": 388,
   "id": "devoted-trick",
   "metadata": {},
   "outputs": [],
   "source": [
    "yearly_source_avg_df = pd.DataFrame(yearly_source_avg).reset_index(drop=True)"
   ]
  },
  {
   "cell_type": "code",
   "execution_count": 389,
   "id": "limited-clock",
   "metadata": {},
   "outputs": [],
   "source": [
    "yearly_source_avg_df.index += 2020"
   ]
  },
  {
   "cell_type": "code",
   "execution_count": 390,
   "id": "decreased-india",
   "metadata": {},
   "outputs": [
    {
     "data": {
      "text/html": [
       "<div>\n",
       "<style scoped>\n",
       "    .dataframe tbody tr th:only-of-type {\n",
       "        vertical-align: middle;\n",
       "    }\n",
       "\n",
       "    .dataframe tbody tr th {\n",
       "        vertical-align: top;\n",
       "    }\n",
       "\n",
       "    .dataframe thead th {\n",
       "        text-align: right;\n",
       "    }\n",
       "</style>\n",
       "<table border=\"1\" class=\"dataframe\">\n",
       "  <thead>\n",
       "    <tr style=\"text-align: right;\">\n",
       "      <th></th>\n",
       "      <th>0</th>\n",
       "    </tr>\n",
       "  </thead>\n",
       "  <tbody>\n",
       "    <tr>\n",
       "      <th>2020</th>\n",
       "      <td>0.000000</td>\n",
       "    </tr>\n",
       "    <tr>\n",
       "      <th>2021</th>\n",
       "      <td>4.960513</td>\n",
       "    </tr>\n",
       "    <tr>\n",
       "      <th>2022</th>\n",
       "      <td>5.903406</td>\n",
       "    </tr>\n",
       "    <tr>\n",
       "      <th>2023</th>\n",
       "      <td>5.899772</td>\n",
       "    </tr>\n",
       "    <tr>\n",
       "      <th>2024</th>\n",
       "      <td>5.878473</td>\n",
       "    </tr>\n",
       "    <tr>\n",
       "      <th>2025</th>\n",
       "      <td>5.868188</td>\n",
       "    </tr>\n",
       "    <tr>\n",
       "      <th>2026</th>\n",
       "      <td>5.846618</td>\n",
       "    </tr>\n",
       "    <tr>\n",
       "      <th>2027</th>\n",
       "      <td>5.825951</td>\n",
       "    </tr>\n",
       "    <tr>\n",
       "      <th>2028</th>\n",
       "      <td>5.809016</td>\n",
       "    </tr>\n",
       "    <tr>\n",
       "      <th>2029</th>\n",
       "      <td>5.801637</td>\n",
       "    </tr>\n",
       "    <tr>\n",
       "      <th>2030</th>\n",
       "      <td>5.775173</td>\n",
       "    </tr>\n",
       "    <tr>\n",
       "      <th>2031</th>\n",
       "      <td>5.760106</td>\n",
       "    </tr>\n",
       "    <tr>\n",
       "      <th>2032</th>\n",
       "      <td>5.748615</td>\n",
       "    </tr>\n",
       "    <tr>\n",
       "      <th>2033</th>\n",
       "      <td>5.737065</td>\n",
       "    </tr>\n",
       "    <tr>\n",
       "      <th>2034</th>\n",
       "      <td>5.719269</td>\n",
       "    </tr>\n",
       "    <tr>\n",
       "      <th>2035</th>\n",
       "      <td>5.701720</td>\n",
       "    </tr>\n",
       "    <tr>\n",
       "      <th>2036</th>\n",
       "      <td>5.687312</td>\n",
       "    </tr>\n",
       "    <tr>\n",
       "      <th>2037</th>\n",
       "      <td>5.683367</td>\n",
       "    </tr>\n",
       "    <tr>\n",
       "      <th>2038</th>\n",
       "      <td>5.662342</td>\n",
       "    </tr>\n",
       "    <tr>\n",
       "      <th>2039</th>\n",
       "      <td>5.650182</td>\n",
       "    </tr>\n",
       "    <tr>\n",
       "      <th>2040</th>\n",
       "      <td>5.639343</td>\n",
       "    </tr>\n",
       "    <tr>\n",
       "      <th>2041</th>\n",
       "      <td>5.631668</td>\n",
       "    </tr>\n",
       "    <tr>\n",
       "      <th>2042</th>\n",
       "      <td>5.614108</td>\n",
       "    </tr>\n",
       "    <tr>\n",
       "      <th>2043</th>\n",
       "      <td>5.605170</td>\n",
       "    </tr>\n",
       "    <tr>\n",
       "      <th>2044</th>\n",
       "      <td>5.590433</td>\n",
       "    </tr>\n",
       "    <tr>\n",
       "      <th>2045</th>\n",
       "      <td>5.587589</td>\n",
       "    </tr>\n",
       "    <tr>\n",
       "      <th>2046</th>\n",
       "      <td>5.568716</td>\n",
       "    </tr>\n",
       "    <tr>\n",
       "      <th>2047</th>\n",
       "      <td>5.557263</td>\n",
       "    </tr>\n",
       "    <tr>\n",
       "      <th>2048</th>\n",
       "      <td>5.547397</td>\n",
       "    </tr>\n",
       "  </tbody>\n",
       "</table>\n",
       "</div>"
      ],
      "text/plain": [
       "             0\n",
       "2020  0.000000\n",
       "2021  4.960513\n",
       "2022  5.903406\n",
       "2023  5.899772\n",
       "2024  5.878473\n",
       "2025  5.868188\n",
       "2026  5.846618\n",
       "2027  5.825951\n",
       "2028  5.809016\n",
       "2029  5.801637\n",
       "2030  5.775173\n",
       "2031  5.760106\n",
       "2032  5.748615\n",
       "2033  5.737065\n",
       "2034  5.719269\n",
       "2035  5.701720\n",
       "2036  5.687312\n",
       "2037  5.683367\n",
       "2038  5.662342\n",
       "2039  5.650182\n",
       "2040  5.639343\n",
       "2041  5.631668\n",
       "2042  5.614108\n",
       "2043  5.605170\n",
       "2044  5.590433\n",
       "2045  5.587589\n",
       "2046  5.568716\n",
       "2047  5.557263\n",
       "2048  5.547397"
      ]
     },
     "execution_count": 390,
     "metadata": {},
     "output_type": "execute_result"
    }
   ],
   "source": [
    "yearly_source_avg_df"
   ]
  },
  {
   "cell_type": "code",
   "execution_count": 395,
   "id": "completed-attack",
   "metadata": {},
   "outputs": [
    {
     "data": {
      "image/png": "[encoded data removed]",
      "text/plain": [
       "<Figure size 432x288 with 1 Axes>"
      ]
     },
     "metadata": {
      "needs_background": "light"
     },
     "output_type": "display_data"
    }
   ],
   "source": [
    "#ax = meat_df.plot(y=\"percentage\", use_index=True) \n",
    "#human_cases_df.plot(y=human_cases_df.columns[0], use_index=True, ax = ax) \n",
    "yearly_source_avg_df[2:].plot.bar(y=yearly_source_avg_df.columns[0], use_index=True, color=\"lightblue\") \n",
    "plt.xlabel('Year'); plt.ylabel('Percentage')\n",
    "plt.title('Percentage of campylobacteriosis from food')\n",
    "plt.savefig('source.png', dpi=300,  bbox_inches='tight')\n",
    "plt.legend('',frameon=False)\n",
    "plt.show()"
   ]
  },
  {
   "cell_type": "markdown",
   "id": "welcome-policy",
   "metadata": {},
   "source": [
    "# DALYs"
   ]
  },
  {
   "cell_type": "code",
   "execution_count": 247,
   "id": "tamil-referral",
   "metadata": {},
   "outputs": [],
   "source": [
    "dalys_df  = pd.DataFrame(all_df.loc[all_df.Date.str.contains(\"DALY\")].iloc[0])[1:]"
   ]
  },
  {
   "cell_type": "code",
   "execution_count": 248,
   "id": "billion-hudson",
   "metadata": {},
   "outputs": [],
   "source": [
    "dalys_df = ditch_M(dalys_df)"
   ]
  },
  {
   "cell_type": "code",
   "execution_count": 249,
   "id": "passing-score",
   "metadata": {},
   "outputs": [],
   "source": [
    "dalys_df[dalys_df.columns[0]] = dalys_df[dalys_df.columns[0]].astype(float)"
   ]
  },
  {
   "cell_type": "code",
   "execution_count": 250,
   "id": "stable-zimbabwe",
   "metadata": {},
   "outputs": [],
   "source": [
    "dalys_df.index = dalys_df.index.astype(float)"
   ]
  },
  {
   "cell_type": "code",
   "execution_count": 251,
   "id": "optimum-issue",
   "metadata": {},
   "outputs": [],
   "source": [
    "dalys_df = dalys_df[dalys_df.index % 1 == 0]"
   ]
  },
  {
   "cell_type": "code",
   "execution_count": 252,
   "id": "focal-kitchen",
   "metadata": {},
   "outputs": [],
   "source": [
    "dalys_df[\"diff\"] = dalys_df.diff().iloc[:, -1]"
   ]
  },
  {
   "cell_type": "code",
   "execution_count": 253,
   "id": "heated-steering",
   "metadata": {},
   "outputs": [],
   "source": [
    "mangen_dalys_avg = 635"
   ]
  },
  {
   "cell_type": "code",
   "execution_count": 254,
   "id": "cooked-science",
   "metadata": {},
   "outputs": [],
   "source": [
    "vlaanderen_dalys_avg = vlaanderen_dalys_avg"
   ]
  },
  {
   "cell_type": "code",
   "execution_count": 255,
   "id": "empirical-latitude",
   "metadata": {},
   "outputs": [],
   "source": [
    "dalys_df.index = dalys_df.index.astype(int)"
   ]
  },
  {
   "cell_type": "code",
   "execution_count": 396,
   "id": "available-hepatitis",
   "metadata": {},
   "outputs": [
    {
     "data": {
      "image/png": "[encoded data removed]",
      "text/plain": [
       "<Figure size 432x288 with 1 Axes>"
      ]
     },
     "metadata": {
      "needs_background": "light"
     },
     "output_type": "display_data"
    }
   ],
   "source": [
    "dalys_df[2:].plot.bar(y=\"diff\", use_index=True, color=\"lightblue\")\n",
    "x1 = [0, 26]\n",
    "y2 = [mangen_dalys_avg] *2\n",
    "plt.plot(x1, y2, color=\"red\", marker='o')\n",
    "plt.xlabel('Year'); plt.ylabel('Value')\n",
    "plt.title('(unaccumulative) DALYs')\n",
    "plt.legend([\"Results literature 1\", \"Results model\"])\n",
    "plt.savefig('dalys.png', dpi=300,  bbox_inches='tight')\n",
    "plt.show()"
   ]
  },
  {
   "cell_type": "markdown",
   "id": "blessed-religious",
   "metadata": {},
   "source": [
    "# CoI"
   ]
  },
  {
   "cell_type": "code",
   "execution_count": 155,
   "id": "wrapped-audience",
   "metadata": {},
   "outputs": [],
   "source": [
    "coi_df  = pd.DataFrame(all_df.loc[all_df.Date.str.contains(\"Cost of Illness\")].iloc[0])[1:]"
   ]
  },
  {
   "cell_type": "code",
   "execution_count": 156,
   "id": "challenging-jersey",
   "metadata": {},
   "outputs": [],
   "source": [
    "coi_df = ditch_M(coi_df)"
   ]
  },
  {
   "cell_type": "code",
   "execution_count": 157,
   "id": "seeing-hopkins",
   "metadata": {},
   "outputs": [],
   "source": [
    "coi_df[coi_df.columns[0]] = coi_df[coi_df.columns[0]].astype(float)"
   ]
  },
  {
   "cell_type": "code",
   "execution_count": 158,
   "id": "automated-listening",
   "metadata": {},
   "outputs": [],
   "source": [
    "coi_df.index = coi_df.index.astype(float)"
   ]
  },
  {
   "cell_type": "code",
   "execution_count": 159,
   "id": "lesbian-planet",
   "metadata": {},
   "outputs": [],
   "source": [
    "coi_df = coi_df[coi_df.index % 1 == 0]"
   ]
  },
  {
   "cell_type": "code",
   "execution_count": 160,
   "id": "intended-volume",
   "metadata": {},
   "outputs": [],
   "source": [
    "coi_df[\"diff\"] = coi_df.diff().iloc[:, -1]"
   ]
  },
  {
   "cell_type": "code",
   "execution_count": 161,
   "id": "stone-imaging",
   "metadata": {},
   "outputs": [],
   "source": [
    "#source: mangen et al\n",
    "mangen_coi_avg = 20600 * 1000\n",
    "\n",
    "vlaanderen_coi = np.array([64, 55, 64])\n",
    "vlaanderen_coi_avg = np.mean(vlaanderen_coi)\n"
   ]
  },
  {
   "cell_type": "code",
   "execution_count": 162,
   "id": "arabic-registration",
   "metadata": {},
   "outputs": [],
   "source": [
    "coi_df.index = coi_df.index.astype(int)"
   ]
  },
  {
   "cell_type": "code",
   "execution_count": 416,
   "id": "french-navigator",
   "metadata": {},
   "outputs": [
    {
     "data": {
      "image/png": "[encoded data removed]",
      "text/plain": [
       "<Figure size 432x288 with 1 Axes>"
      ]
     },
     "metadata": {
      "needs_background": "light"
     },
     "output_type": "display_data"
    }
   ],
   "source": [
    "coi_df[2:].plot.bar(y=\"diff\", use_index=True, color=\"lightblue\")\n",
    "x1, y1 = [0, 26], [mangen_coi_avg,mangen_coi_avg]\n",
    "plt.plot(x1, y1, color=\"red\", marker='o')\n",
    "plt.xlabel('Year'); plt.ylabel('Value')\n",
    "plt.title('(unaccumulative) Cost of Illness')\n",
    "plt.legend([\"Results model\", \"Results literature\"], bbox_to_anchor=(0.39, 0.2))\n",
    "plt.savefig('coi.png', dpi=300,  bbox_inches='tight')\n",
    "plt.show()"
   ]
  },
  {
   "cell_type": "code",
   "execution_count": null,
   "id": "declared-england",
   "metadata": {},
   "outputs": [],
   "source": []
  }
 ],
 "metadata": {
  "kernelspec": {
   "display_name": "Python 3",
   "language": "python",
   "name": "python3"
  },
  "language_info": {
   "codemirror_mode": {
    "name": "ipython",
    "version": 3
   },
   "file_extension": ".py",
   "mimetype": "text/x-python",
   "name": "python",
   "nbconvert_exporter": "python",
   "pygments_lexer": "ipython3",
   "version": "3.7.9"
  }
 },
 "nbformat": 4,
 "nbformat_minor": 5
}
