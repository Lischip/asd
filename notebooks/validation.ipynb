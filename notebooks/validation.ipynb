{
 "cells": [
  {
   "cell_type": "code",
   "execution_count": 1,
   "id": "blessed-rotation",
   "metadata": {},
   "outputs": [],
   "source": [
    "import pandas as pd\n",
    "import matplotlib.pyplot as plt\n",
    "import numpy as np\n",
    "import seaborn as sns\n",
    "sns.set_theme(style=\"whitegrid\")\n",
    "import matplotlib.patches as mpatches"
   ]
  },
  {
   "cell_type": "code",
   "execution_count": 2,
   "id": "imperial-bulgaria",
   "metadata": {},
   "outputs": [],
   "source": [
    "def filter_yearly(df):\n",
    "    total = 0\n",
    "    amount = []\n",
    "    for index, row in df.iterrows():\n",
    "        total += row[df.columns[0]]\n",
    "        if (float(index) % 1 == 0):\n",
    "            amount.append(total)\n",
    "            total = 0\n",
    "    return np.array(amount)"
   ]
  },
  {
   "cell_type": "code",
   "execution_count": 3,
   "id": "moved-forward",
   "metadata": {},
   "outputs": [],
   "source": [
    "def filter_yearly_avg(df):\n",
    "    total = 0\n",
    "    amount = []\n",
    "    counter = 0\n",
    "    for index, row in df.iterrows():\n",
    "        total += row[df.columns[0]]\n",
    "        counter += 1\n",
    "        if (float(index) % 1 == 0):\n",
    "            amount.append(total/counter)\n",
    "            total, counter = 0, 0\n",
    "    return np.array(amount)"
   ]
  },
  {
   "cell_type": "code",
   "execution_count": 4,
   "id": "valid-lending",
   "metadata": {},
   "outputs": [],
   "source": [
    "def ditch_M(df):\n",
    "    df[df.columns[0]] = df[df.columns[0]].apply(lambda value: float(value.replace(\"M\",'')) * 1000000 if \"M\" in value else value)\n",
    "    return df"
   ]
  },
  {
   "cell_type": "code",
   "execution_count": 5,
   "id": "colored-forwarding",
   "metadata": {},
   "outputs": [],
   "source": [
    "all_df = pd.read_csv(\"all.txt\", delimiter=\"\\t\")"
   ]
  },
  {
   "cell_type": "code",
   "execution_count": 6,
   "id": "female-barrel",
   "metadata": {},
   "outputs": [],
   "source": [
    "all_df = all_df.iloc[:, :-1]"
   ]
  },
  {
   "cell_type": "markdown",
   "id": "christian-fishing",
   "metadata": {},
   "source": [
    "# Human cases\n",
    "Model variable: symptomatic infections"
   ]
  },
  {
   "cell_type": "code",
   "execution_count": 7,
   "id": "systematic-first",
   "metadata": {},
   "outputs": [],
   "source": [
    "human_cases_df = pd.DataFrame(all_df.loc[all_df.Date.str.contains(\"symptomatic infections\")].iloc[-1, :])[1:]"
   ]
  },
  {
   "cell_type": "code",
   "execution_count": 8,
   "id": "pleased-gender",
   "metadata": {},
   "outputs": [],
   "source": [
    "human_cases_df = ditch_M(human_cases_df)"
   ]
  },
  {
   "cell_type": "code",
   "execution_count": 9,
   "id": "employed-dodge",
   "metadata": {},
   "outputs": [],
   "source": [
    "human_cases_df[human_cases_df.columns[0]] = human_cases_df[human_cases_df.columns[0]].astype(float)"
   ]
  },
  {
   "cell_type": "code",
   "execution_count": 10,
   "id": "geological-description",
   "metadata": {},
   "outputs": [],
   "source": [
    "human_cases_years = filter_yearly(human_cases_df)"
   ]
  },
  {
   "cell_type": "code",
   "execution_count": 11,
   "id": "thrown-pipeline",
   "metadata": {},
   "outputs": [],
   "source": [
    "vlaanderen = np.array([78970, 67260, 71246])"
   ]
  },
  {
   "cell_type": "code",
   "execution_count": 12,
   "id": "cleared-supplier",
   "metadata": {},
   "outputs": [],
   "source": [
    "vlaanderen_avg = np.mean(vlaanderen)"
   ]
  },
  {
   "cell_type": "code",
   "execution_count": 13,
   "id": "instant-brush",
   "metadata": {},
   "outputs": [],
   "source": [
    "human_cases_years =human_cases_years.astype(int)"
   ]
  },
  {
   "cell_type": "code",
   "execution_count": 14,
   "id": "divided-macro",
   "metadata": {},
   "outputs": [
    {
     "data": {
      "image/png": "[encoded data removed]",
      "text/plain": [
       "<Figure size 432x288 with 1 Axes>"
      ]
     },
     "metadata": {},
     "output_type": "display_data"
    }
   ],
   "source": [
    "#plt.plot([vlaanderen_avg] * len(human_cases_years), color=\"red\")\n",
    "x1 = [0, 27]\n",
    "y2 = [vlaanderen_avg] *2\n",
    "plt.plot(x1, y2, color=\"red\", marker='o')\n",
    "\n",
    "plt.bar(height = human_cases_years[1:], x = np.arange(len(human_cases_years[1:])), color=\"lightblue\")\n",
    "plt.xlabel('Year'); plt.ylabel('Cases')\n",
    "plt.xticks(np.arange(len(human_cases_years[1:])), np.arange(2020, 2048), rotation=90)\n",
    "plt.title('Amount of symptomatic human cases')\n",
    "plt.legend([\"Results literature\", \"Results model\"])\n",
    "plt.savefig('human_cases.png', dpi=300,  bbox_inches='tight')\n",
    "plt.show()"
   ]
  },
  {
   "cell_type": "code",
   "execution_count": 15,
   "id": "motivated-harvard",
   "metadata": {},
   "outputs": [
    {
     "data": {
      "image/png": "[encoded data removed]",
      "text/plain": [
       "<Figure size 432x288 with 1 Axes>"
      ]
     },
     "metadata": {},
     "output_type": "display_data"
    }
   ],
   "source": [
    "ax = sns.boxplot(y=human_cases_years[1:], color=\"lightblue\")\n",
    "x1 = [-0.4, .4]\n",
    "y2 = [vlaanderen_avg] *2\n",
    "plt.plot(x1, y2, color=\"red\")\n",
    "\n",
    "mod_patch = mpatches.Patch(color='lightblue', label='Results model')\n",
    "lit_patch = mpatches.Patch(color=\"red\", label='Results literature')\n",
    "\n",
    "plt.ylabel('Cases')\n",
    "plt.title('Amount of symptomatic human cases')\n",
    "plt.legend(handles=[mod_patch, lit_patch])\n",
    "plt.savefig('human_cases2.png', dpi=300,  bbox_inches='tight')\n",
    "plt.show()"
   ]
  },
  {
   "cell_type": "markdown",
   "id": "arctic-yemen",
   "metadata": {},
   "source": [
    "# Chickens\n",
    "Model variable: proportion of CPY-positive chickens\n",
    "$41,9$-$58.1\\%$"
   ]
  },
  {
   "cell_type": "code",
   "execution_count": 16,
   "id": "illegal-october",
   "metadata": {},
   "outputs": [],
   "source": [
    "chickens_df = pd.DataFrame(all_df.loc[all_df.Date.str.contains(\"proportion of CPY-positive chickens\")]).T[1:]"
   ]
  },
  {
   "cell_type": "code",
   "execution_count": 17,
   "id": "atmospheric-mailman",
   "metadata": {},
   "outputs": [],
   "source": [
    "chickens_df[chickens_df.columns[0]] = chickens_df[chickens_df.columns[0]].astype(float)"
   ]
  },
  {
   "cell_type": "code",
   "execution_count": 18,
   "id": "ultimate-median",
   "metadata": {},
   "outputs": [],
   "source": [
    "chickens_df[chickens_df.columns[0]] = chickens_df[chickens_df.columns[0]]  * 100"
   ]
  },
  {
   "cell_type": "code",
   "execution_count": 19,
   "id": "documentary-newsletter",
   "metadata": {},
   "outputs": [],
   "source": [
    "chickens_yearly = filter_yearly_avg(chickens_df)"
   ]
  },
  {
   "cell_type": "code",
   "execution_count": 20,
   "id": "random-voltage",
   "metadata": {},
   "outputs": [
    {
     "data": {
      "text/plain": [
       "array([ 0.        , 41.67468817, 42.38223873, 42.53305485, 42.63339868,\n",
       "       42.71211914, 42.8108188 , 42.9039464 , 42.99269928, 43.05563321,\n",
       "       43.16782974, 43.25236343, 43.32834778, 43.40228995, 43.49859401,\n",
       "       43.59653885, 43.68247998, 43.72543548, 43.84948381, 43.93369664,\n",
       "       44.00511928, 44.07059211, 44.18461355, 44.25241473, 44.35096499,\n",
       "       44.38549976, 44.5148699 , 44.59787398, 44.67896727])"
      ]
     },
     "execution_count": 20,
     "metadata": {},
     "output_type": "execute_result"
    }
   ],
   "source": [
    "chickens_yearly"
   ]
  },
  {
   "cell_type": "code",
   "execution_count": 21,
   "id": "pacific-thursday",
   "metadata": {},
   "outputs": [
    {
     "data": {
      "image/png": "[encoded data removed]",
      "text/plain": [
       "<Figure size 432x288 with 1 Axes>"
      ]
     },
     "metadata": {},
     "output_type": "display_data"
    }
   ],
   "source": [
    "fig = plt.figure()\n",
    "plt.bar(height = chickens_yearly, x = np.arange(len(chickens_yearly)), color=\"lightblue\")\n",
    "plt.xticks(np.arange(len(chickens_yearly)), np.arange(2020, 2049), rotation=90)\n",
    "plt.xlabel('Year'); plt.ylabel('Percentage')\n",
    "plt.title('Percentage of infected chickens per year')\n",
    "plt.legend('',frameon=False)\n",
    "plt.savefig('chickens.png', dpi=300,  bbox_inches='tight')\n",
    "plt.show()"
   ]
  },
  {
   "cell_type": "code",
   "execution_count": 22,
   "id": "diagnostic-release",
   "metadata": {},
   "outputs": [
    {
     "data": {
      "image/png": "[encoded data removed]",
      "text/plain": [
       "<Figure size 432x288 with 1 Axes>"
      ]
     },
     "metadata": {},
     "output_type": "display_data"
    }
   ],
   "source": [
    "ax = sns.boxplot(y=chickens_yearly[1:], color=\"lightblue\")\n",
    "plt.ylabel('Percentage')\n",
    "plt.title('Percentage of infected chickens per year')\n",
    "plt.legend('',frameon=False)\n",
    "plt.savefig('chickens2.png', dpi=300,  bbox_inches='tight')\n",
    "plt.show()"
   ]
  },
  {
   "cell_type": "markdown",
   "id": "christian-thailand",
   "metadata": {},
   "source": [
    "# Source\n",
    "Model variable: rate of human infection from environment\n",
    "$20$-$60\\%$ from enviro"
   ]
  },
  {
   "cell_type": "code",
   "execution_count": 23,
   "id": "tropical-drawing",
   "metadata": {},
   "outputs": [],
   "source": [
    "env_inf_df  = pd.DataFrame(all_df.loc[all_df.Date.str.contains(\"rate of human infection from environment\")]).iloc[:, 1:].T"
   ]
  },
  {
   "cell_type": "code",
   "execution_count": 24,
   "id": "german-scanner",
   "metadata": {},
   "outputs": [],
   "source": [
    "env_inf_df[env_inf_df.columns[0]] = env_inf_df[env_inf_df.columns[0]].astype(float)"
   ]
  },
  {
   "cell_type": "code",
   "execution_count": 25,
   "id": "upper-september",
   "metadata": {},
   "outputs": [],
   "source": [
    "meat_df = pd.DataFrame(all_df.loc[all_df.Date.str.contains(\"contaminated meat consumption\")]).T[1:]"
   ]
  },
  {
   "cell_type": "code",
   "execution_count": 26,
   "id": "entire-latino",
   "metadata": {},
   "outputs": [],
   "source": [
    "infection_df = pd.DataFrame(all_df.loc[all_df.Date.str.contains(\"infections per kg of meat consumed\")]).T[1:]"
   ]
  },
  {
   "cell_type": "code",
   "execution_count": 27,
   "id": "informational-lodging",
   "metadata": {},
   "outputs": [],
   "source": [
    "infection_df =infection_df.apply(lambda x: '%.5f' % x, axis=1)"
   ]
  },
  {
   "cell_type": "code",
   "execution_count": 28,
   "id": "graduate-convenience",
   "metadata": {},
   "outputs": [],
   "source": [
    "infection_df =pd.DataFrame(infection_df)"
   ]
  },
  {
   "cell_type": "code",
   "execution_count": 29,
   "id": "vietnamese-newspaper",
   "metadata": {},
   "outputs": [],
   "source": [
    "meat_df = ditch_M(meat_df)"
   ]
  },
  {
   "cell_type": "code",
   "execution_count": 30,
   "id": "complex-switzerland",
   "metadata": {},
   "outputs": [],
   "source": [
    "meat_df[meat_df.columns[0]] = meat_df[meat_df.columns[0]].astype(float)"
   ]
  },
  {
   "cell_type": "code",
   "execution_count": 31,
   "id": "announced-store",
   "metadata": {},
   "outputs": [],
   "source": [
    "infection_df[infection_df.columns[0]] = infection_df[infection_df.columns[0]].astype(float)"
   ]
  },
  {
   "cell_type": "code",
   "execution_count": 32,
   "id": "consistent-tradition",
   "metadata": {},
   "outputs": [],
   "source": [
    "meat_df[\"consumed\"] = meat_df[meat_df.columns[0]] * infection_df[infection_df.columns[0]] "
   ]
  },
  {
   "cell_type": "code",
   "execution_count": 33,
   "id": "competent-leisure",
   "metadata": {},
   "outputs": [],
   "source": [
    "meat_df[\"total\"] = meat_df[\"consumed\"] + env_inf_df[env_inf_df.columns[0]]"
   ]
  },
  {
   "cell_type": "code",
   "execution_count": 34,
   "id": "round-repository",
   "metadata": {},
   "outputs": [],
   "source": [
    "meat_df[\"percentage\"] = meat_df[\"consumed\"]/meat_df[\"total\"] * 100"
   ]
  },
  {
   "cell_type": "code",
   "execution_count": 35,
   "id": "canadian-guarantee",
   "metadata": {},
   "outputs": [],
   "source": [
    "yearly_source_avg = filter_yearly_avg(pd.DataFrame(meat_df[\"percentage\"]))"
   ]
  },
  {
   "cell_type": "code",
   "execution_count": 36,
   "id": "removable-protein",
   "metadata": {},
   "outputs": [],
   "source": [
    "yearly_source_avg_df = pd.DataFrame(yearly_source_avg).reset_index(drop=True)"
   ]
  },
  {
   "cell_type": "code",
   "execution_count": 37,
   "id": "separate-logic",
   "metadata": {},
   "outputs": [],
   "source": [
    "yearly_source_avg_df.index += 2020"
   ]
  },
  {
   "cell_type": "code",
   "execution_count": 38,
   "id": "north-brunswick",
   "metadata": {},
   "outputs": [
    {
     "data": {
      "image/png": "[encoded data removed]",
      "text/plain": [
       "<Figure size 432x288 with 1 Axes>"
      ]
     },
     "metadata": {},
     "output_type": "display_data"
    }
   ],
   "source": [
    "#ax = meat_df.plot(y=\"percentage\", use_index=True) \n",
    "#human_cases_df.plot(y=human_cases_df.columns[0], use_index=True, ax = ax) \n",
    "yearly_source_avg_df[2:].plot.bar(y=yearly_source_avg_df.columns[0], use_index=True, color=\"lightblue\") \n",
    "plt.xlabel('Year'); plt.ylabel('Percentage')\n",
    "plt.title('Percentage of infections from meat')\n",
    "plt.legend('',frameon=False)\n",
    "plt.savefig('source.png', dpi=300,  bbox_inches='tight')\n",
    "plt.show()"
   ]
  },
  {
   "cell_type": "code",
   "execution_count": 39,
   "id": "insured-chapter",
   "metadata": {},
   "outputs": [
    {
     "data": {
      "image/png": "[encoded data removed]",
      "text/plain": [
       "<Figure size 432x288 with 1 Axes>"
      ]
     },
     "metadata": {},
     "output_type": "display_data"
    }
   ],
   "source": [
    "ax = sns.boxplot(y=yearly_source_avg_df[yearly_source_avg_df.columns[0]][2:], color=\"lightblue\")\n",
    "\n",
    "\n",
    "plt.ylabel('Percentage')\n",
    "plt.title('Percentage of infections from meat')\n",
    "plt.legend('',frameon=False)\n",
    "plt.savefig('source2.png', dpi=300,  bbox_inches='tight')\n",
    "plt.show()"
   ]
  },
  {
   "cell_type": "markdown",
   "id": "basic-netscape",
   "metadata": {},
   "source": [
    "# DALYs"
   ]
  },
  {
   "cell_type": "code",
   "execution_count": 40,
   "id": "hourly-blackjack",
   "metadata": {},
   "outputs": [],
   "source": [
    "dalys_df  = pd.DataFrame(all_df.loc[all_df.Date.str.contains(\"DALY\")].iloc[0])[1:]"
   ]
  },
  {
   "cell_type": "code",
   "execution_count": 41,
   "id": "pressing-software",
   "metadata": {},
   "outputs": [],
   "source": [
    "dalys_df = ditch_M(dalys_df)"
   ]
  },
  {
   "cell_type": "code",
   "execution_count": 42,
   "id": "municipal-navigator",
   "metadata": {},
   "outputs": [],
   "source": [
    "dalys_df[dalys_df.columns[0]] = dalys_df[dalys_df.columns[0]].astype(float)"
   ]
  },
  {
   "cell_type": "code",
   "execution_count": 43,
   "id": "packed-faith",
   "metadata": {},
   "outputs": [],
   "source": [
    "dalys_df.index = dalys_df.index.astype(float)"
   ]
  },
  {
   "cell_type": "code",
   "execution_count": 44,
   "id": "extraordinary-inspiration",
   "metadata": {},
   "outputs": [],
   "source": [
    "dalys_df = dalys_df[dalys_df.index % 1 == 0]"
   ]
  },
  {
   "cell_type": "code",
   "execution_count": 45,
   "id": "broke-greensboro",
   "metadata": {},
   "outputs": [],
   "source": [
    "dalys_df[\"diff\"] = dalys_df.diff().iloc[:, -1]"
   ]
  },
  {
   "cell_type": "code",
   "execution_count": 46,
   "id": "geological-pressure",
   "metadata": {},
   "outputs": [],
   "source": [
    "mangen_dalys_avg = 635"
   ]
  },
  {
   "cell_type": "code",
   "execution_count": 47,
   "id": "arabic-trial",
   "metadata": {},
   "outputs": [],
   "source": [
    "dalys_df.index = dalys_df.index.astype(int)"
   ]
  },
  {
   "cell_type": "code",
   "execution_count": 48,
   "id": "historical-trace",
   "metadata": {},
   "outputs": [
    {
     "data": {
      "image/png": "[encoded data removed]",
      "text/plain": [
       "<Figure size 432x288 with 1 Axes>"
      ]
     },
     "metadata": {},
     "output_type": "display_data"
    }
   ],
   "source": [
    "dalys_df[2:].plot.bar(y=\"diff\", use_index=True, color=\"lightblue\")\n",
    "x1 = [0, 26]\n",
    "y2 = [mangen_dalys_avg] *2\n",
    "plt.plot(x1, y2, color=\"red\", marker='o')\n",
    "plt.xlabel('Year'); plt.ylabel('Value')\n",
    "plt.title('(unaccumulative) DALYs')\n",
    "plt.legend([\"Results literature 1\", \"Results model\"])\n",
    "plt.savefig('dalys.png', dpi=300,  bbox_inches='tight')\n",
    "plt.show()"
   ]
  },
  {
   "cell_type": "code",
   "execution_count": 49,
   "id": "proud-auditor",
   "metadata": {},
   "outputs": [
    {
     "data": {
      "image/png": "[encoded data removed]",
      "text/plain": [
       "<Figure size 432x288 with 1 Axes>"
      ]
     },
     "metadata": {},
     "output_type": "display_data"
    }
   ],
   "source": [
    "ax = sns.boxplot(y=dalys_df[\"diff\"][2:], color=\"lightblue\")\n",
    "x1 = [-0.4, .4]\n",
    "y2 = [mangen_dalys_avg] *2\n",
    "plt.plot(x1, y2, color=\"red\", marker='o')\n",
    "\n",
    "\n",
    "mod_patch = mpatches.Patch(color='lightblue', label='Results model')\n",
    "lit_patch = mpatches.Patch(color=\"red\", label='Results literature')\n",
    "\n",
    "plt.legend(handles=[mod_patch, lit_patch], bbox_to_anchor=(0.3, 0.2))\n",
    "\n",
    "plt.ylabel('Value')\n",
    "plt.title('(unaccumulative) DALYs')\n",
    "plt.savefig('dalys2.png', dpi=300,  bbox_inches='tight')\n",
    "plt.show()"
   ]
  },
  {
   "cell_type": "markdown",
   "id": "distinct-library",
   "metadata": {},
   "source": [
    "# CoI"
   ]
  },
  {
   "cell_type": "code",
   "execution_count": 50,
   "id": "plain-cabinet",
   "metadata": {},
   "outputs": [],
   "source": [
    "coi_df  = pd.DataFrame(all_df.loc[all_df.Date.str.contains(\"Cost of Illness\")].iloc[0])[1:]"
   ]
  },
  {
   "cell_type": "code",
   "execution_count": 51,
   "id": "asian-scratch",
   "metadata": {},
   "outputs": [],
   "source": [
    "coi_df = ditch_M(coi_df)"
   ]
  },
  {
   "cell_type": "code",
   "execution_count": 52,
   "id": "wound-shuttle",
   "metadata": {},
   "outputs": [],
   "source": [
    "coi_df[coi_df.columns[0]] = coi_df[coi_df.columns[0]].astype(float)"
   ]
  },
  {
   "cell_type": "code",
   "execution_count": 53,
   "id": "provincial-hardware",
   "metadata": {},
   "outputs": [],
   "source": [
    "coi_df.index = coi_df.index.astype(float)"
   ]
  },
  {
   "cell_type": "code",
   "execution_count": 54,
   "id": "wrong-rebecca",
   "metadata": {},
   "outputs": [],
   "source": [
    "coi_df = coi_df[coi_df.index % 1 == 0]"
   ]
  },
  {
   "cell_type": "code",
   "execution_count": 55,
   "id": "great-congress",
   "metadata": {},
   "outputs": [],
   "source": [
    "coi_df[\"diff\"] = coi_df.diff().iloc[:, -1]"
   ]
  },
  {
   "cell_type": "code",
   "execution_count": 56,
   "id": "egyptian-event",
   "metadata": {},
   "outputs": [],
   "source": [
    "#source: mangen et al\n",
    "mangen_coi_avg = 20600 * 1000\n",
    "\n",
    "vlaanderen_coi = np.array([64, 55, 64])\n",
    "vlaanderen_coi_avg = np.mean(vlaanderen_coi)\n"
   ]
  },
  {
   "cell_type": "code",
   "execution_count": 57,
   "id": "ranking-sunday",
   "metadata": {},
   "outputs": [],
   "source": [
    "coi_df.index = coi_df.index.astype(int)"
   ]
  },
  {
   "cell_type": "code",
   "execution_count": 58,
   "id": "renewable-worker",
   "metadata": {},
   "outputs": [
    {
     "data": {
      "image/png": "[encoded data removed]",
      "text/plain": [
       "<Figure size 432x288 with 1 Axes>"
      ]
     },
     "metadata": {},
     "output_type": "display_data"
    }
   ],
   "source": [
    "coi_df[2:].plot.bar(y=\"diff\", use_index=True, color=\"lightblue\")\n",
    "x1, y1 = [0, 26], [mangen_coi_avg,mangen_coi_avg]\n",
    "plt.plot(x1, y1, color=\"red\", marker='o')\n",
    "plt.xlabel('Year'); plt.ylabel('Value')\n",
    "plt.title('(unaccumulative) Cost of Illness')\n",
    "plt.legend([\"Results model\", \"Results literature\"], bbox_to_anchor=(0.39, 0.2))\n",
    "plt.savefig('coi.png', dpi=300,  bbox_inches='tight')\n",
    "plt.show()"
   ]
  },
  {
   "cell_type": "code",
   "execution_count": 59,
   "id": "constitutional-thumb",
   "metadata": {},
   "outputs": [
    {
     "data": {
      "image/png": "[encoded data removed]",
      "text/plain": [
       "<Figure size 432x288 with 1 Axes>"
      ]
     },
     "metadata": {},
     "output_type": "display_data"
    }
   ],
   "source": [
    "ax = sns.boxplot(y=coi_df[\"diff\"][2:], color=\"lightblue\")\n",
    "x1 = [-0.4, .4]\n",
    "y2 = [mangen_coi_avg] *2\n",
    "plt.plot(x1, y2, color=\"red\", marker='o')\n",
    "\n",
    "\n",
    "mod_patch = mpatches.Patch(color='lightblue', label='Results model')\n",
    "lit_patch = mpatches.Patch(color=\"red\", label='Results literature')\n",
    "\n",
    "plt.legend(handles=[mod_patch, lit_patch], bbox_to_anchor=(0.45, 0.755))\n",
    "\n",
    "plt.ylabel('Value')\n",
    "plt.title('(unaccumulative) Cost of Illness')\n",
    "plt.savefig('coi2.png', dpi=300,  bbox_inches='tight')\n",
    "plt.show()"
   ]
  },
  {
   "cell_type": "code",
   "execution_count": null,
   "id": "experimental-genealogy",
   "metadata": {},
   "outputs": [],
   "source": []
  }
 ],
 "metadata": {
  "kernelspec": {
   "display_name": "Python 3",
   "language": "python",
   "name": "python3"
  },
  "language_info": {
   "codemirror_mode": {
    "name": "ipython",
    "version": 3
   },
   "file_extension": ".py",
   "mimetype": "text/x-python",
   "name": "python",
   "nbconvert_exporter": "python",
   "pygments_lexer": "ipython3",
   "version": "3.7.9"
  }
 },
 "nbformat": 4,
 "nbformat_minor": 5
}
