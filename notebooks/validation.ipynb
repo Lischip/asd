{
 "cells": [
  {
   "cell_type": "code",
   "execution_count": 95,
   "id": "under-acrobat",
   "metadata": {},
   "outputs": [],
   "source": [
    "import pandas as pd\n",
    "import matplotlib.pyplot as plt\n",
    "import numpy as np"
   ]
  },
  {
   "cell_type": "code",
   "execution_count": 96,
   "id": "accepting-forest",
   "metadata": {},
   "outputs": [],
   "source": [
    "def filter_yearly(df):\n",
    "    total = 0\n",
    "    amount = []\n",
    "    for index, row in df.iterrows():\n",
    "        total += row[df.columns[0]]\n",
    "        if (float(index) % 1 == 0):\n",
    "            amount.append(total)\n",
    "            total = 0\n",
    "    return np.array(amount)"
   ]
  },
  {
   "cell_type": "code",
   "execution_count": 97,
   "id": "rotary-stopping",
   "metadata": {},
   "outputs": [],
   "source": [
    "def filter_yearly_avg(df):\n",
    "    total = 0\n",
    "    amount = []\n",
    "    counter = 0\n",
    "    for index, row in df.iterrows():\n",
    "        total += row[df.columns[0]]\n",
    "        counter += 1\n",
    "        if (float(index) % 1 == 0):\n",
    "            amount.append(total/counter)\n",
    "            total, counter = 0, 0\n",
    "    return np.array(amount)"
   ]
  },
  {
   "cell_type": "code",
   "execution_count": 98,
   "id": "tired-young",
   "metadata": {},
   "outputs": [],
   "source": [
    "def ditch_M(df):\n",
    "    df[df.columns[0]] = df[df.columns[0]].apply(lambda value: float(value.replace(\"M\",'')) * 1000000 if \"M\" in value else value)\n",
    "    return df"
   ]
  },
  {
   "cell_type": "code",
   "execution_count": 99,
   "id": "sensitive-yellow",
   "metadata": {},
   "outputs": [],
   "source": [
    "all_df = pd.read_csv(\"all.txt\", delimiter=\"\\t\")"
   ]
  },
  {
   "cell_type": "code",
   "execution_count": 100,
   "id": "southern-bernard",
   "metadata": {},
   "outputs": [],
   "source": [
    "all_df = all_df.iloc[:, :-1]"
   ]
  },
  {
   "cell_type": "markdown",
   "id": "fitting-norway",
   "metadata": {},
   "source": [
    "# Human cases\n",
    "Model variable: symptomatic infections"
   ]
  },
  {
   "cell_type": "code",
   "execution_count": 271,
   "id": "fuzzy-royal",
   "metadata": {},
   "outputs": [],
   "source": [
    "human_cases_df = pd.DataFrame(all_df.loc[all_df.Date.str.contains(\"symptomatic infections\")].iloc[-1, :])[1:]"
   ]
  },
  {
   "cell_type": "code",
   "execution_count": 272,
   "id": "configured-military",
   "metadata": {},
   "outputs": [],
   "source": [
    "human_cases_df = ditch_M(human_cases_df)"
   ]
  },
  {
   "cell_type": "code",
   "execution_count": 273,
   "id": "spread-camera",
   "metadata": {},
   "outputs": [],
   "source": [
    "human_cases_df[human_cases_df.columns[0]] = human_cases_df[human_cases_df.columns[0]].astype(float)"
   ]
  },
  {
   "cell_type": "code",
   "execution_count": 274,
   "id": "alternate-thirty",
   "metadata": {},
   "outputs": [],
   "source": [
    "human_cases_years = filter_yearly(human_cases_df)"
   ]
  },
  {
   "cell_type": "code",
   "execution_count": 275,
   "id": "appreciated-siemens",
   "metadata": {},
   "outputs": [],
   "source": [
    "vlaanderen = np.array([78970, 67260, 71246])"
   ]
  },
  {
   "cell_type": "code",
   "execution_count": 276,
   "id": "chemical-graphic",
   "metadata": {},
   "outputs": [],
   "source": [
    "vlaanderen_avg = np.mean(vlaanderen)"
   ]
  },
  {
   "cell_type": "code",
   "execution_count": 277,
   "id": "adverse-michigan",
   "metadata": {},
   "outputs": [],
   "source": [
    "human_cases_years =human_cases_years.astype(int)"
   ]
  },
  {
   "cell_type": "code",
   "execution_count": 417,
   "id": "animal-melissa",
   "metadata": {},
   "outputs": [
    {
     "data": {
      "image/png": "[encoded data removed]",
      "text/plain": [
       "<Figure size 432x288 with 1 Axes>"
      ]
     },
     "metadata": {
      "needs_background": "light"
     },
     "output_type": "display_data"
    }
   ],
   "source": [
    "#plt.plot([vlaanderen_avg] * len(human_cases_years), color=\"red\")\n",
    "x1 = [0, 27]\n",
    "y2 = [vlaanderen_avg] *2\n",
    "plt.plot(x1, y2, color=\"red\", marker='o')\n",
    "\n",
    "plt.bar(height = human_cases_years[1:], x = np.arange(len(human_cases_years[1:])), color=\"lightblue\")\n",
    "plt.xlabel('Year'); plt.ylabel('Cases')\n",
    "plt.xticks(np.arange(len(human_cases_years[1:])), np.arange(2020, 2048), rotation=90)\n",
    "plt.title('Amount of symptomatic human cases')\n",
    "plt.legend([\"Results literature\", \"Results model\"])\n",
    "plt.savefig('human_cases.png', dpi=300,  bbox_inches='tight')\n",
    "plt.show()"
   ]
  },
  {
   "cell_type": "markdown",
   "id": "psychological-inspiration",
   "metadata": {},
   "source": [
    "# Chickens\n",
    "Model variable: proportion of CPY-positive chickens\n",
    "$41,9$-$58.1\\%$"
   ]
  },
  {
   "cell_type": "code",
   "execution_count": 339,
   "id": "unexpected-jesus",
   "metadata": {},
   "outputs": [],
   "source": [
    "chickens_df = pd.DataFrame(all_df.loc[all_df.Date.str.contains(\"proportion of CPY-positive chickens\")]).T[1:]"
   ]
  },
  {
   "cell_type": "code",
   "execution_count": 265,
   "id": "collaborative-orange",
   "metadata": {},
   "outputs": [],
   "source": [
    "chickens_df[chickens_df.columns[0]] = chickens_df[chickens_df.columns[0]].astype(float)"
   ]
  },
  {
   "cell_type": "code",
   "execution_count": 266,
   "id": "usual-robinson",
   "metadata": {},
   "outputs": [],
   "source": [
    "chickens_df[chickens_df.columns[0]] = chickens_df[chickens_df.columns[0]]  * 100"
   ]
  },
  {
   "cell_type": "code",
   "execution_count": 267,
   "id": "aggressive-exclusive",
   "metadata": {},
   "outputs": [],
   "source": [
    "chickens_yearly = filter_yearly_avg(chickens_df)"
   ]
  },
  {
   "cell_type": "code",
   "execution_count": 268,
   "id": "confident-orchestra",
   "metadata": {},
   "outputs": [
    {
     "data": {
      "text/plain": [
       "array([ 0.        , 41.67468817, 42.38223873, 42.53305485, 42.63339868,\n",
       "       42.71211914, 42.8108188 , 42.9039464 , 42.99269928, 43.05563321,\n",
       "       43.16782974, 43.25236343, 43.32834778, 43.40228995, 43.49859401,\n",
       "       43.59653885, 43.68247998, 43.72543548, 43.84948381, 43.93369664,\n",
       "       44.00511928, 44.07059211, 44.18461355, 44.25241473, 44.35096499,\n",
       "       44.38549976, 44.5148699 , 44.59787398, 44.67896727])"
      ]
     },
     "execution_count": 268,
     "metadata": {},
     "output_type": "execute_result"
    }
   ],
   "source": [
    "chickens_yearly"
   ]
  },
  {
   "cell_type": "code",
   "execution_count": 269,
   "id": "dated-structure",
   "metadata": {},
   "outputs": [
    {
     "data": {
      "image/png": "[encoded data removed]",
      "text/plain": [
       "<Figure size 432x288 with 1 Axes>"
      ]
     },
     "metadata": {
      "needs_background": "light"
     },
     "output_type": "display_data"
    }
   ],
   "source": [
    "fig = plt.figure()\n",
    "plt.bar(height = chickens_yearly, x = np.arange(len(chickens_yearly)), color=\"lightblue\")\n",
    "plt.xticks(np.arange(len(chickens_yearly)), np.arange(2020, 2049), rotation=90)\n",
    "plt.xlabel('Year'); plt.ylabel('Percentage')\n",
    "plt.title('Percentage of infected chickens per year')\n",
    "plt.legend('',frameon=False)\n",
    "plt.savefig('chickens.png', dpi=300,  bbox_inches='tight')\n",
    "plt.show()"
   ]
  },
  {
   "cell_type": "markdown",
   "id": "great-anger",
   "metadata": {},
   "source": [
    "# Source\n",
    "Model variable: rate of human infection from environment\n",
    "$20$-$60\\%$ from enviro"
   ]
  },
  {
   "cell_type": "code",
   "execution_count": 356,
   "id": "cleared-charity",
   "metadata": {},
   "outputs": [],
   "source": [
    "env_inf_df  = pd.DataFrame(all_df.loc[all_df.Date.str.contains(\"rate of human infection from environment\")]).iloc[:, 1:].T"
   ]
  },
  {
   "cell_type": "code",
   "execution_count": 358,
   "id": "spoken-compilation",
   "metadata": {},
   "outputs": [],
   "source": [
    "env_inf_df[env_inf_df.columns[0]] = env_inf_df[env_inf_df.columns[0]].astype(float)"
   ]
  },
  {
   "cell_type": "code",
   "execution_count": 340,
   "id": "rolled-choice",
   "metadata": {},
   "outputs": [],
   "source": [
    "meat_df = pd.DataFrame(all_df.loc[all_df.Date.str.contains(\"contaminated meat consumption\")]).T[1:]"
   ]
  },
  {
   "cell_type": "code",
   "execution_count": 341,
   "id": "buried-failure",
   "metadata": {},
   "outputs": [],
   "source": [
    "infection_df = pd.DataFrame(all_df.loc[all_df.Date.str.contains(\"infections per kg of meat consumed\")]).T[1:]"
   ]
  },
  {
   "cell_type": "code",
   "execution_count": 342,
   "id": "bound-product",
   "metadata": {},
   "outputs": [],
   "source": [
    "infection_df =infection_df.apply(lambda x: '%.5f' % x, axis=1)"
   ]
  },
  {
   "cell_type": "code",
   "execution_count": 344,
   "id": "worldwide-boutique",
   "metadata": {},
   "outputs": [],
   "source": [
    "infection_df =pd.DataFrame(infection_df)"
   ]
  },
  {
   "cell_type": "code",
   "execution_count": 348,
   "id": "absolute-filling",
   "metadata": {},
   "outputs": [],
   "source": [
    "meat_df = ditch_M(meat_df)"
   ]
  },
  {
   "cell_type": "code",
   "execution_count": 349,
   "id": "australian-geology",
   "metadata": {},
   "outputs": [],
   "source": [
    "meat_df[meat_df.columns[0]] = meat_df[meat_df.columns[0]].astype(float)"
   ]
  },
  {
   "cell_type": "code",
   "execution_count": 350,
   "id": "neural-avatar",
   "metadata": {},
   "outputs": [],
   "source": [
    "infection_df[infection_df.columns[0]] = infection_df[infection_df.columns[0]].astype(float)"
   ]
  },
  {
   "cell_type": "code",
   "execution_count": 352,
   "id": "allied-medicaid",
   "metadata": {},
   "outputs": [],
   "source": [
    "meat_df[\"consumed\"] = meat_df[meat_df.columns[0]] * infection_df[infection_df.columns[0]] "
   ]
  },
  {
   "cell_type": "code",
   "execution_count": 359,
   "id": "contemporary-greenhouse",
   "metadata": {},
   "outputs": [],
   "source": [
    "meat_df[\"total\"] = meat_df[\"consumed\"] + env_inf_df[env_inf_df.columns[0]]"
   ]
  },
  {
   "cell_type": "code",
   "execution_count": 361,
   "id": "universal-phenomenon",
   "metadata": {},
   "outputs": [],
   "source": [
    "meat_df[\"percentage\"] = meat_df[\"consumed\"]/meat_df[\"total\"] * 100"
   ]
  },
  {
   "cell_type": "code",
   "execution_count": 383,
   "id": "likely-secretariat",
   "metadata": {},
   "outputs": [],
   "source": [
    "yearly_source_avg = filter_yearly_avg(pd.DataFrame(meat_df[\"percentage\"]))"
   ]
  },
  {
   "cell_type": "code",
   "execution_count": 388,
   "id": "neural-hormone",
   "metadata": {},
   "outputs": [],
   "source": [
    "yearly_source_avg_df = pd.DataFrame(yearly_source_avg).reset_index(drop=True)"
   ]
  },
  {
   "cell_type": "code",
   "execution_count": 389,
   "id": "equivalent-building",
   "metadata": {},
   "outputs": [],
   "source": [
    "yearly_source_avg_df.index += 2020"
   ]
  },
  {
   "cell_type": "code",
   "execution_count": 419,
   "id": "sonic-vitamin",
   "metadata": {},
   "outputs": [
    {
     "data": {
      "image/png": "[encoded data removed]",
      "text/plain": [
       "<Figure size 432x288 with 1 Axes>"
      ]
     },
     "metadata": {
      "needs_background": "light"
     },
     "output_type": "display_data"
    }
   ],
   "source": [
    "#ax = meat_df.plot(y=\"percentage\", use_index=True) \n",
    "#human_cases_df.plot(y=human_cases_df.columns[0], use_index=True, ax = ax) \n",
    "yearly_source_avg_df[2:].plot.bar(y=yearly_source_avg_df.columns[0], use_index=True, color=\"lightblue\") \n",
    "plt.xlabel('Year'); plt.ylabel('Percentage')\n",
    "plt.title('Percentage of infections from meat')\n",
    "plt.savefig('source.png', dpi=300,  bbox_inches='tight')\n",
    "plt.legend('',frameon=False)\n",
    "plt.show()"
   ]
  },
  {
   "cell_type": "markdown",
   "id": "pretty-israel",
   "metadata": {},
   "source": [
    "# DALYs"
   ]
  },
  {
   "cell_type": "code",
   "execution_count": 247,
   "id": "brave-entertainment",
   "metadata": {},
   "outputs": [],
   "source": [
    "dalys_df  = pd.DataFrame(all_df.loc[all_df.Date.str.contains(\"DALY\")].iloc[0])[1:]"
   ]
  },
  {
   "cell_type": "code",
   "execution_count": 248,
   "id": "eastern-workstation",
   "metadata": {},
   "outputs": [],
   "source": [
    "dalys_df = ditch_M(dalys_df)"
   ]
  },
  {
   "cell_type": "code",
   "execution_count": 249,
   "id": "electoral-candle",
   "metadata": {},
   "outputs": [],
   "source": [
    "dalys_df[dalys_df.columns[0]] = dalys_df[dalys_df.columns[0]].astype(float)"
   ]
  },
  {
   "cell_type": "code",
   "execution_count": 250,
   "id": "cross-missile",
   "metadata": {},
   "outputs": [],
   "source": [
    "dalys_df.index = dalys_df.index.astype(float)"
   ]
  },
  {
   "cell_type": "code",
   "execution_count": 251,
   "id": "south-coalition",
   "metadata": {},
   "outputs": [],
   "source": [
    "dalys_df = dalys_df[dalys_df.index % 1 == 0]"
   ]
  },
  {
   "cell_type": "code",
   "execution_count": 252,
   "id": "dimensional-distributor",
   "metadata": {},
   "outputs": [],
   "source": [
    "dalys_df[\"diff\"] = dalys_df.diff().iloc[:, -1]"
   ]
  },
  {
   "cell_type": "code",
   "execution_count": 253,
   "id": "lesser-desperate",
   "metadata": {},
   "outputs": [],
   "source": [
    "mangen_dalys_avg = 635"
   ]
  },
  {
   "cell_type": "code",
   "execution_count": 254,
   "id": "architectural-summit",
   "metadata": {},
   "outputs": [],
   "source": [
    "vlaanderen_dalys_avg = vlaanderen_dalys_avg"
   ]
  },
  {
   "cell_type": "code",
   "execution_count": 255,
   "id": "coupled-confirmation",
   "metadata": {},
   "outputs": [],
   "source": [
    "dalys_df.index = dalys_df.index.astype(int)"
   ]
  },
  {
   "cell_type": "code",
   "execution_count": 396,
   "id": "acute-cardiff",
   "metadata": {},
   "outputs": [
    {
     "data": {
      "image/png": "[encoded data removed]",
      "text/plain": [
       "<Figure size 432x288 with 1 Axes>"
      ]
     },
     "metadata": {
      "needs_background": "light"
     },
     "output_type": "display_data"
    }
   ],
   "source": [
    "dalys_df[2:].plot.bar(y=\"diff\", use_index=True, color=\"lightblue\")\n",
    "x1 = [0, 26]\n",
    "y2 = [mangen_dalys_avg] *2\n",
    "plt.plot(x1, y2, color=\"red\", marker='o')\n",
    "plt.xlabel('Year'); plt.ylabel('Value')\n",
    "plt.title('(unaccumulative) DALYs')\n",
    "plt.legend([\"Results literature 1\", \"Results model\"])\n",
    "plt.savefig('dalys.png', dpi=300,  bbox_inches='tight')\n",
    "plt.show()"
   ]
  },
  {
   "cell_type": "markdown",
   "id": "functional-genre",
   "metadata": {},
   "source": [
    "# CoI"
   ]
  },
  {
   "cell_type": "code",
   "execution_count": 155,
   "id": "absolute-valve",
   "metadata": {},
   "outputs": [],
   "source": [
    "coi_df  = pd.DataFrame(all_df.loc[all_df.Date.str.contains(\"Cost of Illness\")].iloc[0])[1:]"
   ]
  },
  {
   "cell_type": "code",
   "execution_count": 156,
   "id": "amino-phenomenon",
   "metadata": {},
   "outputs": [],
   "source": [
    "coi_df = ditch_M(coi_df)"
   ]
  },
  {
   "cell_type": "code",
   "execution_count": 157,
   "id": "fundamental-payroll",
   "metadata": {},
   "outputs": [],
   "source": [
    "coi_df[coi_df.columns[0]] = coi_df[coi_df.columns[0]].astype(float)"
   ]
  },
  {
   "cell_type": "code",
   "execution_count": 158,
   "id": "hidden-textbook",
   "metadata": {},
   "outputs": [],
   "source": [
    "coi_df.index = coi_df.index.astype(float)"
   ]
  },
  {
   "cell_type": "code",
   "execution_count": 159,
   "id": "express-regard",
   "metadata": {},
   "outputs": [],
   "source": [
    "coi_df = coi_df[coi_df.index % 1 == 0]"
   ]
  },
  {
   "cell_type": "code",
   "execution_count": 160,
   "id": "photographic-cigarette",
   "metadata": {},
   "outputs": [],
   "source": [
    "coi_df[\"diff\"] = coi_df.diff().iloc[:, -1]"
   ]
  },
  {
   "cell_type": "code",
   "execution_count": 161,
   "id": "surgical-spiritual",
   "metadata": {},
   "outputs": [],
   "source": [
    "#source: mangen et al\n",
    "mangen_coi_avg = 20600 * 1000\n",
    "\n",
    "vlaanderen_coi = np.array([64, 55, 64])\n",
    "vlaanderen_coi_avg = np.mean(vlaanderen_coi)\n"
   ]
  },
  {
   "cell_type": "code",
   "execution_count": 162,
   "id": "executive-while",
   "metadata": {},
   "outputs": [],
   "source": [
    "coi_df.index = coi_df.index.astype(int)"
   ]
  },
  {
   "cell_type": "code",
   "execution_count": 416,
   "id": "active-lloyd",
   "metadata": {},
   "outputs": [
    {
     "data": {
      "image/png": "[encoded data removed]",
      "text/plain": [
       "<Figure size 432x288 with 1 Axes>"
      ]
     },
     "metadata": {
      "needs_background": "light"
     },
     "output_type": "display_data"
    }
   ],
   "source": [
    "coi_df[2:].plot.bar(y=\"diff\", use_index=True, color=\"lightblue\")\n",
    "x1, y1 = [0, 26], [mangen_coi_avg,mangen_coi_avg]\n",
    "plt.plot(x1, y1, color=\"red\", marker='o')\n",
    "plt.xlabel('Year'); plt.ylabel('Value')\n",
    "plt.title('(unaccumulative) Cost of Illness')\n",
    "plt.legend([\"Results model\", \"Results literature\"], bbox_to_anchor=(0.39, 0.2))\n",
    "plt.savefig('coi.png', dpi=300,  bbox_inches='tight')\n",
    "plt.show()"
   ]
  },
  {
   "cell_type": "code",
   "execution_count": null,
   "id": "compact-freeware",
   "metadata": {},
   "outputs": [],
   "source": []
  }
 ],
 "metadata": {
  "kernelspec": {
   "display_name": "Python 3",
   "language": "python",
   "name": "python3"
  },
  "language_info": {
   "codemirror_mode": {
    "name": "ipython",
    "version": 3
   },
   "file_extension": ".py",
   "mimetype": "text/x-python",
   "name": "python",
   "nbconvert_exporter": "python",
   "pygments_lexer": "ipython3",
   "version": "3.7.9"
  }
 },
 "nbformat": 4,
 "nbformat_minor": 5
}
